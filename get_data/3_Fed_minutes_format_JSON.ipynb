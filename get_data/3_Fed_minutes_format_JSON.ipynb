{
 "cells": [
  {
   "cell_type": "code",
   "execution_count": 29,
   "id": "deca6743",
   "metadata": {},
   "outputs": [],
   "source": [
    "import requests\n",
    "from bs4 import BeautifulSoup\n",
    "import re\n",
    "import pandas as pd\n",
    "import time"
   ]
  },
  {
   "cell_type": "code",
   "execution_count": 30,
   "id": "27b92409",
   "metadata": {},
   "outputs": [],
   "source": [
    "k = ['https://www.federalreserve.gov/monetarypolicy/fomcminutes20210728.htm',\n",
    " 'https://www.federalreserve.gov/monetarypolicy/fomcminutes20210616.htm',\n",
    " 'https://www.federalreserve.gov/monetarypolicy/fomcminutes20210428.htm',\n",
    " 'https://www.federalreserve.gov/monetarypolicy/fomcminutes20210317.htm',\n",
    " 'https://www.federalreserve.gov/monetarypolicy/fomcminutes20210127.htm',\n",
    " 'https://www.federalreserve.gov/monetarypolicy/fomcminutes20201216.htm',\n",
    " 'https://www.federalreserve.gov/monetarypolicy/fomcminutes20201105.htm',\n",
    " 'https://www.federalreserve.gov/monetarypolicy/fomcminutes20200916.htm',\n",
    " 'https://www.federalreserve.gov/monetarypolicy/fomcminutes20200729.htm',\n",
    " 'https://www.federalreserve.gov/monetarypolicy/fomcminutes20200610.htm',\n",
    " 'https://www.federalreserve.gov/monetarypolicy/fomcminutes20200429.htm',\n",
    " 'https://www.federalreserve.gov/monetarypolicy/fomcminutes20200315.htm',\n",
    " 'https://www.federalreserve.gov/monetarypolicy/fomcminutes20200129.htm',\n",
    " 'https://www.federalreserve.gov/monetarypolicy/fomcminutes20191211.htm',\n",
    " 'https://www.federalreserve.gov/monetarypolicy/fomcminutes20191030.htm',\n",
    " 'https://www.federalreserve.gov/monetarypolicy/fomcminutes20190918.htm',\n",
    " 'https://www.federalreserve.gov/monetarypolicy/fomcminutes20190731.htm',\n",
    " 'https://www.federalreserve.gov/monetarypolicy/fomcminutes20190619.htm',\n",
    " 'https://www.federalreserve.gov/monetarypolicy/fomcminutes20190501.htm',\n",
    " 'https://www.federalreserve.gov/monetarypolicy/fomcminutes20190320.htm',\n",
    " 'https://www.federalreserve.gov/monetarypolicy/fomcminutes20190130.htm',\n",
    " 'https://www.federalreserve.gov/monetarypolicy/fomcminutes20181219.htm',\n",
    " 'https://www.federalreserve.gov/monetarypolicy/fomcminutes20181108.htm',\n",
    " 'https://www.federalreserve.gov/monetarypolicy/fomcminutes20180926.htm',\n",
    " 'https://www.federalreserve.gov/monetarypolicy/fomcminutes20180801.htm',\n",
    " 'https://www.federalreserve.gov/monetarypolicy/fomcminutes20180613.htm',\n",
    " 'https://www.federalreserve.gov/monetarypolicy/fomcminutes20180502.htm',\n",
    " 'https://www.federalreserve.gov/monetarypolicy/fomcminutes20180321.htm',\n",
    " 'https://www.federalreserve.gov/monetarypolicy/fomcminutes20180131.htm',\n",
    " 'https://www.federalreserve.gov/monetarypolicy/fomcminutes20171213.htm',\n",
    " 'https://www.federalreserve.gov/monetarypolicy/fomcminutes20171101.htm',\n",
    " 'https://www.federalreserve.gov/monetarypolicy/fomcminutes20170920.htm',\n",
    " 'https://www.federalreserve.gov/monetarypolicy/fomcminutes20170726.htm',\n",
    " 'https://www.federalreserve.gov/monetarypolicy/fomcminutes20170614.htm',\n",
    " 'https://www.federalreserve.gov/monetarypolicy/fomcminutes20170503.htm',\n",
    " 'https://www.federalreserve.gov/monetarypolicy/fomcminutes20170315.htm',\n",
    " 'https://www.federalreserve.gov/monetarypolicy/fomcminutes20170201.htm',\n",
    " 'https://www.federalreserve.gov/monetarypolicy/fomcminutes20161214.htm',\n",
    " 'https://www.federalreserve.gov/monetarypolicy/fomcminutes20161102.htm',\n",
    " 'https://www.federalreserve.gov/monetarypolicy/fomcminutes20160921.htm',\n",
    " 'https://www.federalreserve.gov/monetarypolicy/fomcminutes20160727.htm',\n",
    " 'https://www.federalreserve.gov/monetarypolicy/fomcminutes20160615.htm',\n",
    " 'https://www.federalreserve.gov/monetarypolicy/fomcminutes20160427.htm',\n",
    " 'https://www.federalreserve.gov/monetarypolicy/fomcminutes20160316.htm',\n",
    " 'https://www.federalreserve.gov/monetarypolicy/fomcminutes20160127.htm',\n",
    " 'https://www.federalreserve.gov/monetarypolicy/fomcminutes20151216.htm',\n",
    " 'https://www.federalreserve.gov/monetarypolicy/fomcminutes20151028.htm',\n",
    " 'https://www.federalreserve.gov/monetarypolicy/fomcminutes20150917.htm',\n",
    " 'https://www.federalreserve.gov/monetarypolicy/fomcminutes20150729.htm',\n",
    " 'https://www.federalreserve.gov/monetarypolicy/fomcminutes20150617.htm',\n",
    " 'https://www.federalreserve.gov/monetarypolicy/fomcminutes20150429.htm',\n",
    " 'https://www.federalreserve.gov/monetarypolicy/fomcminutes20150318.htm',\n",
    " 'https://www.federalreserve.gov/monetarypolicy/fomcminutes20150128.htm',\n",
    " 'https://www.federalreserve.gov/monetarypolicy/fomcminutes20141217.htm',\n",
    " 'https://www.federalreserve.gov/monetarypolicy/fomcminutes20141029.htm',\n",
    " 'https://www.federalreserve.gov/monetarypolicy/fomcminutes20140917.htm',\n",
    " 'https://www.federalreserve.gov/monetarypolicy/fomcminutes20140730.htm',\n",
    " 'https://www.federalreserve.gov/monetarypolicy/fomcminutes20140618.htm',\n",
    " 'https://www.federalreserve.gov/monetarypolicy/fomcminutes20140430.htm',\n",
    " 'https://www.federalreserve.gov/monetarypolicy/fomcminutes20140319.htm',\n",
    " 'https://www.federalreserve.gov/monetarypolicy/fomcminutes20140129.htm',\n",
    " 'https://www.federalreserve.gov/monetarypolicy/fomcminutes20131218.htm',\n",
    " 'https://www.federalreserve.gov/monetarypolicy/fomcminutes20131030.htm',\n",
    " 'https://www.federalreserve.gov/monetarypolicy/fomcminutes20130918.htm',\n",
    " 'https://www.federalreserve.gov/monetarypolicy/fomcminutes20130731.htm',\n",
    " 'https://www.federalreserve.gov/monetarypolicy/fomcminutes20130619.htm',\n",
    " 'https://www.federalreserve.gov/monetarypolicy/fomcminutes20130501.htm',\n",
    " 'https://www.federalreserve.gov/monetarypolicy/fomcminutes20130320.htm',\n",
    " 'https://www.federalreserve.gov/monetarypolicy/fomcminutes20130130.htm',\n",
    " 'https://www.federalreserve.gov/monetarypolicy/fomcminutes20121212.htm',\n",
    " 'https://www.federalreserve.gov/monetarypolicy/fomcminutes20121024.htm',\n",
    " 'https://www.federalreserve.gov/monetarypolicy/fomcminutes20120913.htm',\n",
    " 'https://www.federalreserve.gov/monetarypolicy/fomcminutes20120801.htm',\n",
    " 'https://www.federalreserve.gov/monetarypolicy/fomcminutes20120620.htm',\n",
    " 'https://www.federalreserve.gov/monetarypolicy/fomcminutes20120425.htm',\n",
    " 'https://www.federalreserve.gov/monetarypolicy/fomcminutes20120313.htm',\n",
    " 'https://www.federalreserve.gov/monetarypolicy/fomcminutes20120125.htm']"
   ]
  },
  {
   "cell_type": "code",
   "execution_count": 31,
   "id": "3d2320d2",
   "metadata": {
    "scrolled": true
   },
   "outputs": [
    {
     "data": {
      "text/plain": [
       "dict_keys(['', 'Discussion of Repurchase Agreement Arrangements', 'Developments in Financial Markets and Open Market Operations', 'Staff Review of the Economic Situation', 'Staff Review of the Financial Situation', 'Staff Economic Outlook', \"Participants' Views on Current Economic Conditions and the Economic Outlook\", 'Committee Policy Action', 'Voting against this action: ', '_______________________\\nJames A. Clouse\\nSecretary'])"
      ]
     },
     "execution_count": 31,
     "metadata": {},
     "output_type": "execute_result"
    }
   ],
   "source": [
    "from collections import defaultdict\n",
    "import json\n",
    "\n",
    "def extract_text(URL):\n",
    "    \n",
    "    page = requests.get(URL)\n",
    "    soup = BeautifulSoup(page.content, \"html.parser\")\n",
    "    article = soup.find(\"div\", {\"id\": \"article\"}).findAll(\"p\")\n",
    "    \n",
    "    data = defaultdict(list)\n",
    "    current_chapter = \"\"\n",
    "\n",
    "    for p in article:\n",
    "        strong = p.find('strong')\n",
    "        #print(strong)\n",
    "        if strong is not None:\n",
    "            current_chapter = strong.text\n",
    "        else:\n",
    "            data[current_chapter].append(p.text)\n",
    "        \n",
    "    return data\n",
    "\n",
    "#for k,v in data.items():\n",
    "#    print(f'{k} -> {v}')\n",
    "\n",
    "extract_text(\"https://www.federalreserve.gov/monetarypolicy/fomcminutes20210616.htm\").keys()\n",
    "#stuff = extract_text(\"https://www.federalreserve.gov/monetarypolicy/fomcminutes20210616.htm\")\n"
   ]
  },
  {
   "cell_type": "code",
   "execution_count": 57,
   "id": "d85421d4",
   "metadata": {},
   "outputs": [
    {
     "data": {
      "text/plain": [
       "'\\nimport json\\n\\nfor i in k:\\n    #print(i[-12:])\\n    parsed = extract_text(i)\\n    time.sleep(2)\\n    json = json.dumps(parsed)\\n    f = open(str(i[-12:])+\".json\",\"w\")\\n    f.write(json)\\n    f.close()\\n'"
      ]
     },
     "execution_count": 57,
     "metadata": {},
     "output_type": "execute_result"
    }
   ],
   "source": [
    "\"\"\"\n",
    "import json\n",
    "\n",
    "for i in k:\n",
    "    #print(i[-12:])\n",
    "    parsed = extract_text(i)\n",
    "    time.sleep(2)\n",
    "    json = json.dumps(parsed)\n",
    "    f = open(str(i[-12:])+\".json\",\"w\")\n",
    "    f.write(json)\n",
    "    f.close()\n",
    "\"\"\""
   ]
  },
  {
   "cell_type": "code",
   "execution_count": 56,
   "id": "351b2c04",
   "metadata": {},
   "outputs": [
    {
     "name": "stdout",
     "output_type": "stream",
     "text": [
      "File has been added\n",
      "File has been added\n",
      "database doesn't exist so it was created!\n",
      "database doesn't exist so it was created!\n",
      "database doesn't exist so it was created!\n",
      "database doesn't exist so it was created!\n",
      "database doesn't exist so it was created!\n",
      "database doesn't exist so it was created!\n",
      "database doesn't exist so it was created!\n",
      "database doesn't exist so it was created!\n",
      "database doesn't exist so it was created!\n",
      "database doesn't exist so it was created!\n",
      "database doesn't exist so it was created!\n",
      "database doesn't exist so it was created!\n",
      "database doesn't exist so it was created!\n",
      "database doesn't exist so it was created!\n",
      "database doesn't exist so it was created!\n",
      "database doesn't exist so it was created!\n",
      "database doesn't exist so it was created!\n",
      "database doesn't exist so it was created!\n",
      "database doesn't exist so it was created!\n",
      "database doesn't exist so it was created!\n",
      "database doesn't exist so it was created!\n",
      "database doesn't exist so it was created!\n",
      "database doesn't exist so it was created!\n",
      "database doesn't exist so it was created!\n",
      "database doesn't exist so it was created!\n",
      "database doesn't exist so it was created!\n",
      "database doesn't exist so it was created!\n",
      "database doesn't exist so it was created!\n",
      "database doesn't exist so it was created!\n",
      "database doesn't exist so it was created!\n",
      "database doesn't exist so it was created!\n",
      "database doesn't exist so it was created!\n",
      "database doesn't exist so it was created!\n",
      "database doesn't exist so it was created!\n",
      "database doesn't exist so it was created!\n",
      "database doesn't exist so it was created!\n",
      "database doesn't exist so it was created!\n",
      "database doesn't exist so it was created!\n",
      "database doesn't exist so it was created!\n",
      "database doesn't exist so it was created!\n",
      "database doesn't exist so it was created!\n",
      "database doesn't exist so it was created!\n",
      "database doesn't exist so it was created!\n",
      "database doesn't exist so it was created!\n",
      "database doesn't exist so it was created!\n",
      "database doesn't exist so it was created!\n",
      "database doesn't exist so it was created!\n",
      "database doesn't exist so it was created!\n",
      "database doesn't exist so it was created!\n",
      "database doesn't exist so it was created!\n",
      "database doesn't exist so it was created!\n",
      "database doesn't exist so it was created!\n",
      "database doesn't exist so it was created!\n",
      "database doesn't exist so it was created!\n",
      "database doesn't exist so it was created!\n",
      "database doesn't exist so it was created!\n",
      "database doesn't exist so it was created!\n",
      "database doesn't exist so it was created!\n",
      "database doesn't exist so it was created!\n",
      "database doesn't exist so it was created!\n",
      "database doesn't exist so it was created!\n",
      "database doesn't exist so it was created!\n",
      "database doesn't exist so it was created!\n",
      "database doesn't exist so it was created!\n",
      "database doesn't exist so it was created!\n",
      "database doesn't exist so it was created!\n",
      "database doesn't exist so it was created!\n",
      "database doesn't exist so it was created!\n",
      "database doesn't exist so it was created!\n",
      "database doesn't exist so it was created!\n",
      "database doesn't exist so it was created!\n",
      "database doesn't exist so it was created!\n",
      "database doesn't exist so it was created!\n",
      "database doesn't exist so it was created!\n",
      "database doesn't exist so it was created!\n"
     ]
    }
   ],
   "source": [
    "import json\n",
    "import os\n",
    "\n",
    "for i in k:\n",
    "    time.sleep(2)\n",
    "    parsed = extract_text(i)\n",
    "    \n",
    "    if os.path.isfile(str(i[-12:])+\".json\"):\n",
    "        print(\"File has been added\")\n",
    "        parsed = extract_text(i)\n",
    "        #print(parsed.keys())\n",
    "        json_string = json.dumps(parsed)\n",
    "        f = open(str(i[-12:])+\".json\",\"w\")\n",
    "        f.write(json_string)\n",
    "        f.close()\n",
    "    \n",
    "    else:\n",
    "        print(\"database doesn't exist so it was created!\")\n",
    "        json_string = json.dumps(parsed)\n",
    "        f = open(str(i[-12:])+\".json\",\"w\")\n",
    "        f.write(json_string)\n",
    "        f.close()\n",
    "    "
   ]
  },
  {
   "cell_type": "code",
   "execution_count": 22,
   "id": "f8419940",
   "metadata": {},
   "outputs": [],
   "source": [
    "import json\n",
    "\n",
    "# python dictionary with key value pairs\n",
    "dict = extract_text(\"https://www.federalreserve.gov/monetarypolicy/fomcminutes20210616.htm\")\n",
    "\n",
    "# create json object from dictionary\n",
    "json = json.dumps(dict)\n",
    "\n",
    "# open file for writing, \"w\" \n",
    "\n",
    "variable = \"json_test\"\n",
    "f = open(str(variable)+\".json\",\"w\")\n",
    "\n",
    "# write json object to file\n",
    "f.write(json)\n",
    "\n",
    "# close file\n",
    "f.close()"
   ]
  },
  {
   "cell_type": "code",
   "execution_count": 26,
   "id": "0d2c15d3",
   "metadata": {},
   "outputs": [],
   "source": [
    "import json\n",
    "\n",
    "f = open(\"dict.json\", \"r\")\n",
    "\n",
    "data = json.load(f)"
   ]
  },
  {
   "cell_type": "code",
   "execution_count": 55,
   "id": "94a4c3bb",
   "metadata": {},
   "outputs": [],
   "source": [
    "import json\n",
    "\n",
    "# python dictionary with key value pairs\n",
    "sample = {\"president\": \"Joe Biden\", \n",
    "          \"vice_president\": \"Kamala Harris\"} \n",
    "\n",
    "# create json object from dictionary\n",
    "json = json.dumps(sample)\n",
    "\n",
    "# open file for writing, \"w\" \n",
    "\n",
    "sample_json_name = \"json_test\"\n",
    "f = open(str(sample_json_name)+\".json\",\"w\")\n",
    "\n",
    "# write json object to file\n",
    "f.write(json)\n",
    "\n",
    "# close file\n",
    "f.close()"
   ]
  },
  {
   "cell_type": "code",
   "execution_count": 53,
   "id": "3c28513a",
   "metadata": {},
   "outputs": [
    {
     "data": {
      "text/plain": [
       "{'president': 'Joe Biden', 'vice_president': 'Kamala Harris'}"
      ]
     },
     "execution_count": 53,
     "metadata": {},
     "output_type": "execute_result"
    }
   ],
   "source": []
  },
  {
   "cell_type": "code",
   "execution_count": null,
   "id": "b77037fb",
   "metadata": {},
   "outputs": [],
   "source": []
  },
  {
   "cell_type": "code",
   "execution_count": null,
   "id": "08810156",
   "metadata": {},
   "outputs": [],
   "source": [
    "\n"
   ]
  }
 ],
 "metadata": {
  "kernelspec": {
   "display_name": "Python 3 (ipykernel)",
   "language": "python",
   "name": "python3"
  },
  "language_info": {
   "codemirror_mode": {
    "name": "ipython",
    "version": 3
   },
   "file_extension": ".py",
   "mimetype": "text/x-python",
   "name": "python",
   "nbconvert_exporter": "python",
   "pygments_lexer": "ipython3",
   "version": "3.9.0"
  }
 },
 "nbformat": 4,
 "nbformat_minor": 5
}
