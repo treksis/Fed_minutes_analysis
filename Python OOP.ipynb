{
 "cells": [
  {
   "cell_type": "code",
   "execution_count": 23,
   "id": "6681e4ce",
   "metadata": {},
   "outputs": [],
   "source": [
    "class Dog:\n",
    "    \n",
    "    # Class attribute\n",
    "    species = \"Canis familiaris\"\n",
    "    \n",
    "    def __init__(self, name, age, breed): # instance attributes\n",
    "        self.name = name\n",
    "        self.age = age\n",
    "        self.breed = breed\n",
    "        \n",
    "    #def description(self):\n",
    "    #    return f'{self.name} is {self.age} years old'\n",
    "    \n",
    "    def __str__(self):\n",
    "        return f'{self.name} is {self.age} years old'\n",
    "    \n",
    "    def speak(self, sound):\n",
    "        return f'{self.name} says {sound}'"
   ]
  },
  {
   "cell_type": "code",
   "execution_count": 7,
   "id": "5e43e078",
   "metadata": {},
   "outputs": [],
   "source": [
    "buddy = Dog(\"buddy\", 9)\n",
    "miles = Dog(\"Miles\", 4)"
   ]
  },
  {
   "cell_type": "code",
   "execution_count": 8,
   "id": "360a109a",
   "metadata": {},
   "outputs": [
    {
     "data": {
      "text/plain": [
       "'buddy'"
      ]
     },
     "execution_count": 8,
     "metadata": {},
     "output_type": "execute_result"
    }
   ],
   "source": [
    "buddy.name"
   ]
  },
  {
   "cell_type": "code",
   "execution_count": 9,
   "id": "d7f58f04",
   "metadata": {},
   "outputs": [
    {
     "data": {
      "text/plain": [
       "9"
      ]
     },
     "execution_count": 9,
     "metadata": {},
     "output_type": "execute_result"
    }
   ],
   "source": [
    "buddy.age"
   ]
  },
  {
   "cell_type": "code",
   "execution_count": 10,
   "id": "0440d75f",
   "metadata": {},
   "outputs": [
    {
     "data": {
      "text/plain": [
       "'Canis familiaris'"
      ]
     },
     "execution_count": 10,
     "metadata": {},
     "output_type": "execute_result"
    }
   ],
   "source": [
    "buddy.species"
   ]
  },
  {
   "cell_type": "code",
   "execution_count": 11,
   "id": "1686ce5a",
   "metadata": {},
   "outputs": [
    {
     "data": {
      "text/plain": [
       "'Canis familiaris'"
      ]
     },
     "execution_count": 11,
     "metadata": {},
     "output_type": "execute_result"
    }
   ],
   "source": [
    "miles.species"
   ]
  },
  {
   "cell_type": "code",
   "execution_count": 13,
   "id": "623a5a04",
   "metadata": {},
   "outputs": [
    {
     "data": {
      "text/plain": [
       "'Miles is 4 years old'"
      ]
     },
     "execution_count": 13,
     "metadata": {},
     "output_type": "execute_result"
    }
   ],
   "source": [
    "miles = Dog(\"Miles\", 4)\n",
    "miles.description()"
   ]
  },
  {
   "cell_type": "code",
   "execution_count": 14,
   "id": "156c1af4",
   "metadata": {},
   "outputs": [
    {
     "data": {
      "text/plain": [
       "'Miles says Woof Woof'"
      ]
     },
     "execution_count": 14,
     "metadata": {},
     "output_type": "execute_result"
    }
   ],
   "source": [
    "miles.speak(\"Woof Woof\")"
   ]
  },
  {
   "cell_type": "code",
   "execution_count": 15,
   "id": "6e64209c",
   "metadata": {},
   "outputs": [
    {
     "name": "stdout",
     "output_type": "stream",
     "text": [
      "['Fletcher', 'David', 'Dan']\n"
     ]
    }
   ],
   "source": [
    "names = [\"Fletcher\", \"David\", \"Dan\"]\n",
    "print(names)"
   ]
  },
  {
   "cell_type": "code",
   "execution_count": 16,
   "id": "921a8f17",
   "metadata": {},
   "outputs": [
    {
     "name": "stdout",
     "output_type": "stream",
     "text": [
      "<__main__.Dog object at 0x0000017622641C70>\n"
     ]
    }
   ],
   "source": [
    "print(miles)"
   ]
  },
  {
   "cell_type": "code",
   "execution_count": 18,
   "id": "4e05ac34",
   "metadata": {},
   "outputs": [
    {
     "name": "stdout",
     "output_type": "stream",
     "text": [
      "Miles is 4 years old\n"
     ]
    }
   ],
   "source": [
    "miles = Dog(\"Miles\", 4)\n",
    "print(miles)"
   ]
  },
  {
   "cell_type": "code",
   "execution_count": 24,
   "id": "d5742d14",
   "metadata": {},
   "outputs": [],
   "source": [
    "miles = Dog(\"Miles\", 4, \"Jack Russell Terrier\")\n",
    "buddy = Dog(\"Buddy\", 9, \"Dachshund\")\n",
    "jack = Dog(\"Jack\", 3, \"Bulldog\")\n",
    "jim = Dog(\"Jim\", 5, \"Bulldog\")"
   ]
  },
  {
   "cell_type": "code",
   "execution_count": 25,
   "id": "d1c32492",
   "metadata": {},
   "outputs": [
    {
     "data": {
      "text/plain": [
       "'Jack says Woof'"
      ]
     },
     "execution_count": 25,
     "metadata": {},
     "output_type": "execute_result"
    }
   ],
   "source": [
    "buddy.speak(\"Yap\")\n",
    "\n",
    "\n",
    "jim.speak(\"Woof\")\n",
    "\n",
    "\n",
    "jack.speak(\"Woof\")"
   ]
  },
  {
   "cell_type": "code",
   "execution_count": 27,
   "id": "0a2af356",
   "metadata": {},
   "outputs": [],
   "source": [
    "class Sensor():\n",
    "    def __init__(self, name, location, record_date):\n",
    "        self.name = name\n",
    "        self.location = location\n",
    "        self.record_date = record_date\n",
    "        self.data = {}\n",
    "        \n",
    "    def add_data(self, t, data):\n",
    "        self.data['time'] = t\n",
    "        self.data['data'] = data\n",
    "        print(f'We have {len(data)} points saved')        \n",
    "        \n",
    "    def clear_data(self):\n",
    "        self.data = {}\n",
    "        print('Data cleared!')"
   ]
  },
  {
   "cell_type": "code",
   "execution_count": 28,
   "id": "2f7f166f",
   "metadata": {},
   "outputs": [
    {
     "name": "stdout",
     "output_type": "stream",
     "text": [
      "We have 10 points saved\n"
     ]
    },
    {
     "data": {
      "text/plain": [
       "{'time': array([0, 1, 2, 3, 4, 5, 6, 7, 8, 9]),\n",
       " 'data': array([  7, -10,   0,   2,   3,  -1,   9,  -9,  -8,  -1])}"
      ]
     },
     "execution_count": 28,
     "metadata": {},
     "output_type": "execute_result"
    }
   ],
   "source": [
    "import numpy as np\n",
    "\n",
    "sensor1 = Sensor('sensor1', 'Berkeley', '2019-01-01')\n",
    "data = np.random.randint(-10, 10, 10)\n",
    "sensor1.add_data(np.arange(10), data)\n",
    "sensor1.data"
   ]
  },
  {
   "cell_type": "code",
   "execution_count": 29,
   "id": "c8d7b470",
   "metadata": {},
   "outputs": [
    {
     "name": "stdout",
     "output_type": "stream",
     "text": [
      "I am an accelerometer!\n",
      "We have 10 points saved\n"
     ]
    },
    {
     "data": {
      "text/plain": [
       "{'time': array([0, 1, 2, 3, 4, 5, 6, 7, 8, 9]),\n",
       " 'data': array([ 8,  4,  8, -1,  3, -8,  6,  4, -8,  4])}"
      ]
     },
     "execution_count": 29,
     "metadata": {},
     "output_type": "execute_result"
    }
   ],
   "source": [
    "class Accelerometer(Sensor):\n",
    "    \n",
    "    def show_type(self):\n",
    "        print('I am an accelerometer!')\n",
    "        \n",
    "acc = Accelerometer('acc1', 'Oakland', '2019-02-01')\n",
    "acc.show_type()\n",
    "data = np.random.randint(-10, 10, 10)\n",
    "acc.add_data(np.arange(10), data)\n",
    "acc.data"
   ]
  },
  {
   "cell_type": "code",
   "execution_count": null,
   "id": "0aa3eb5a",
   "metadata": {},
   "outputs": [],
   "source": []
  }
 ],
 "metadata": {
  "kernelspec": {
   "display_name": "Python 3 (ipykernel)",
   "language": "python",
   "name": "python3"
  },
  "language_info": {
   "codemirror_mode": {
    "name": "ipython",
    "version": 3
   },
   "file_extension": ".py",
   "mimetype": "text/x-python",
   "name": "python",
   "nbconvert_exporter": "python",
   "pygments_lexer": "ipython3",
   "version": "3.9.0"
  }
 },
 "nbformat": 4,
 "nbformat_minor": 5
}
