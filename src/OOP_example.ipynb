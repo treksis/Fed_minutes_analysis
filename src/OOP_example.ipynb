{
 "cells": [
  {
   "cell_type": "code",
   "execution_count": 50,
   "source": [
    "class Horse:\r\n",
    "    species = \"Prucian\"\r\n",
    "    def __init__(self, name, age):\r\n",
    "        self.name = name\r\n",
    "        self.age = age\r\n",
    "\r\n",
    "    #def description(self):\r\n",
    "        #return f'{self.name} is {self.age} years old'\r\n",
    "    \r\n",
    "    def __str__(self):\r\n",
    "        return f\"{self.name} is {self.age} years old\"\r\n",
    "\r\n",
    "    def speak(self, sound):\r\n",
    "        return f'{self.name} says {sound}'"
   ],
   "outputs": [],
   "metadata": {}
  },
  {
   "cell_type": "code",
   "execution_count": 51,
   "source": [
    "Ben = Horse(\"Ben\", 10)\r\n",
    "Toutoune = Horse(\"Toutoune\", 10)"
   ],
   "outputs": [],
   "metadata": {}
  },
  {
   "cell_type": "code",
   "execution_count": 52,
   "source": [
    "Ben.name"
   ],
   "outputs": [
    {
     "output_type": "execute_result",
     "data": {
      "text/plain": [
       "'Ben'"
      ]
     },
     "metadata": {},
     "execution_count": 52
    }
   ],
   "metadata": {}
  },
  {
   "cell_type": "code",
   "execution_count": 53,
   "source": [
    "Ben.age"
   ],
   "outputs": [
    {
     "output_type": "execute_result",
     "data": {
      "text/plain": [
       "10"
      ]
     },
     "metadata": {},
     "execution_count": 53
    }
   ],
   "metadata": {}
  },
  {
   "cell_type": "code",
   "execution_count": 54,
   "source": [
    "Toutoune.name"
   ],
   "outputs": [
    {
     "output_type": "execute_result",
     "data": {
      "text/plain": [
       "'Toutoune'"
      ]
     },
     "metadata": {},
     "execution_count": 54
    }
   ],
   "metadata": {}
  },
  {
   "cell_type": "code",
   "execution_count": 55,
   "source": [
    "Toutoune.age"
   ],
   "outputs": [
    {
     "output_type": "execute_result",
     "data": {
      "text/plain": [
       "10"
      ]
     },
     "metadata": {},
     "execution_count": 55
    }
   ],
   "metadata": {}
  },
  {
   "cell_type": "code",
   "execution_count": 56,
   "source": [
    "Ben.species"
   ],
   "outputs": [
    {
     "output_type": "execute_result",
     "data": {
      "text/plain": [
       "'Prucian'"
      ]
     },
     "metadata": {},
     "execution_count": 56
    }
   ],
   "metadata": {}
  },
  {
   "cell_type": "code",
   "execution_count": 57,
   "source": [
    "#Ben.description()"
   ],
   "outputs": [],
   "metadata": {}
  },
  {
   "cell_type": "code",
   "execution_count": 58,
   "source": [
    "Ben.speak(\"HMMMMMM\")"
   ],
   "outputs": [
    {
     "output_type": "execute_result",
     "data": {
      "text/plain": [
       "'Ben says HMMMMMM'"
      ]
     },
     "metadata": {},
     "execution_count": 58
    }
   ],
   "metadata": {}
  },
  {
   "cell_type": "code",
   "execution_count": 59,
   "source": [
    "names = [\"Jochua\", \"Michael\", \"Ariel\"]"
   ],
   "outputs": [],
   "metadata": {}
  },
  {
   "cell_type": "code",
   "execution_count": 60,
   "source": [
    "print(names)"
   ],
   "outputs": [
    {
     "output_type": "stream",
     "name": "stdout",
     "text": [
      "['Jochua', 'Michael', 'Ariel']\n"
     ]
    }
   ],
   "metadata": {}
  },
  {
   "cell_type": "code",
   "execution_count": 61,
   "source": [
    "print(Ben)"
   ],
   "outputs": [
    {
     "output_type": "stream",
     "name": "stdout",
     "text": [
      "Ben is 10 years old\n"
     ]
    }
   ],
   "metadata": {}
  },
  {
   "cell_type": "code",
   "execution_count": 8,
   "source": [
    "class Dog:\r\n",
    "    species = \"BIG BIG BIG\"\r\n",
    "\r\n",
    "    def __init__(self, name, age, breed):\r\n",
    "        self.name = name\r\n",
    "        self.age = age\r\n",
    "        self.breed = breed\r\n",
    "\r\n",
    "    def __str__(self):\r\n",
    "        return f'{self.name} is {self.age} and is {self.breed}'\r\n",
    "\r\n",
    "    def speak(self, sound):\r\n",
    "        return f'{self.name} says {sound}'"
   ],
   "outputs": [],
   "metadata": {}
  },
  {
   "cell_type": "code",
   "execution_count": 9,
   "source": [
    "miles = Dog(\"Miles\", 4, \"Jack Russell Terrier\")\r\n",
    "buddy = Dog(\"Buddy\", 9, \"Dachshund\")\r\n",
    "jack = Dog(\"Jack\", 3, \"Bulldog\")\r\n",
    "jim = Dog(\"Jim\", 5, \"Bulldog\")"
   ],
   "outputs": [],
   "metadata": {}
  },
  {
   "cell_type": "code",
   "execution_count": 10,
   "source": [
    "print(miles)"
   ],
   "outputs": [
    {
     "output_type": "stream",
     "name": "stdout",
     "text": [
      "Miles is 4 and is Jack Russell Terrier\n"
     ]
    }
   ],
   "metadata": {}
  },
  {
   "cell_type": "code",
   "execution_count": 11,
   "source": [
    "buddy.speak(\"Yap\")\r\n",
    "\r\n",
    "jim.speak(\"Woof\")\r\n",
    "\r\n",
    "jack.speak(\"Woof\")"
   ],
   "outputs": [
    {
     "output_type": "execute_result",
     "data": {
      "text/plain": [
       "'Jack says Woof'"
      ]
     },
     "metadata": {},
     "execution_count": 11
    }
   ],
   "metadata": {}
  },
  {
   "cell_type": "code",
   "execution_count": 14,
   "source": [
    "class Dog:\r\n",
    "    species = \"Canis familiaris\"\r\n",
    "\r\n",
    "    def __init__(self, name, age):\r\n",
    "        self.name = name\r\n",
    "        self.age = age\r\n",
    "\r\n",
    "    def __str__(self):\r\n",
    "        return f\"{self.name} is {self.age} years old\"\r\n",
    "\r\n",
    "    def speak(self, sound):\r\n",
    "        return f\"{self.name} says {sound}\"\r\n",
    "\r\n",
    "class JackRussellTerrier(Dog):\r\n",
    "    pass\r\n",
    "\r\n",
    "class Dachsund(Dog):\r\n",
    "    pass\r\n",
    "\r\n",
    "class Bulldog(Dog):\r\n",
    "    pass"
   ],
   "outputs": [],
   "metadata": {}
  },
  {
   "cell_type": "code",
   "execution_count": 15,
   "source": [
    "miles = JackRussellTerrier(\"Miles\", 4)"
   ],
   "outputs": [],
   "metadata": {}
  },
  {
   "cell_type": "code",
   "execution_count": 16,
   "source": [
    "miles.species"
   ],
   "outputs": [
    {
     "output_type": "execute_result",
     "data": {
      "text/plain": [
       "'Canis familiaris'"
      ]
     },
     "metadata": {},
     "execution_count": 16
    }
   ],
   "metadata": {}
  },
  {
   "cell_type": "code",
   "execution_count": 17,
   "source": [
    "print(miles)"
   ],
   "outputs": [
    {
     "output_type": "stream",
     "name": "stdout",
     "text": [
      "Miles is 4 years old\n"
     ]
    }
   ],
   "metadata": {}
  },
  {
   "cell_type": "code",
   "execution_count": 18,
   "source": [
    "miles.name"
   ],
   "outputs": [
    {
     "output_type": "execute_result",
     "data": {
      "text/plain": [
       "'Miles'"
      ]
     },
     "metadata": {},
     "execution_count": 18
    }
   ],
   "metadata": {}
  },
  {
   "cell_type": "code",
   "execution_count": 19,
   "source": [
    "type(miles)"
   ],
   "outputs": [
    {
     "output_type": "execute_result",
     "data": {
      "text/plain": [
       "__main__.JackRussellTerrier"
      ]
     },
     "metadata": {},
     "execution_count": 19
    }
   ],
   "metadata": {}
  },
  {
   "cell_type": "code",
   "execution_count": 20,
   "source": [
    "isinstance(miles, Dog)"
   ],
   "outputs": [
    {
     "output_type": "execute_result",
     "data": {
      "text/plain": [
       "True"
      ]
     },
     "metadata": {},
     "execution_count": 20
    }
   ],
   "metadata": {}
  },
  {
   "cell_type": "code",
   "execution_count": 21,
   "source": [
    "class JackRussellTerrier(Dog):\r\n",
    "    def speak(self, sound=\"Arf\"):\r\n",
    "        return f\"{self.name} says {sound}\""
   ],
   "outputs": [],
   "metadata": {}
  },
  {
   "cell_type": "code",
   "execution_count": 22,
   "source": [
    "miles = JackRussellTerrier(\"Miles\", 4)\r\n",
    "miles.speak()"
   ],
   "outputs": [
    {
     "output_type": "execute_result",
     "data": {
      "text/plain": [
       "'Miles says Arf'"
      ]
     },
     "metadata": {},
     "execution_count": 22
    }
   ],
   "metadata": {}
  },
  {
   "cell_type": "code",
   "execution_count": 23,
   "source": [
    "miles.speak(\"brrr\")"
   ],
   "outputs": [
    {
     "output_type": "execute_result",
     "data": {
      "text/plain": [
       "'Miles says brrr'"
      ]
     },
     "metadata": {},
     "execution_count": 23
    }
   ],
   "metadata": {}
  },
  {
   "cell_type": "code",
   "execution_count": 24,
   "source": [
    "jim = Bulldog(\"jim\", 4)"
   ],
   "outputs": [],
   "metadata": {}
  },
  {
   "cell_type": "code",
   "execution_count": 25,
   "source": [
    "jim.speak(\"BBRRRRRRRRRRRRRRRRRRR\")"
   ],
   "outputs": [
    {
     "output_type": "execute_result",
     "data": {
      "text/plain": [
       "'jim says BBRRRRRRRRRRRRRRRRRRR'"
      ]
     },
     "metadata": {},
     "execution_count": 25
    }
   ],
   "metadata": {}
  },
  {
   "cell_type": "code",
   "execution_count": 31,
   "source": [
    "class JackRussellTerrier(Dog):\r\n",
    "    def speak(self, sound=\"Arf\"):\r\n",
    "        return super().speak(sound)"
   ],
   "outputs": [],
   "metadata": {}
  },
  {
   "cell_type": "code",
   "execution_count": 32,
   "source": [
    "miles = JackRussellTerrier(\"Miles\", 4)"
   ],
   "outputs": [],
   "metadata": {}
  },
  {
   "cell_type": "code",
   "execution_count": 33,
   "source": [
    "miles.speak()"
   ],
   "outputs": [
    {
     "output_type": "execute_result",
     "data": {
      "text/plain": [
       "'Miles says Arf'"
      ]
     },
     "metadata": {},
     "execution_count": 33
    }
   ],
   "metadata": {}
  },
  {
   "cell_type": "code",
   "execution_count": 36,
   "source": [
    "class Dog:\r\n",
    "    species = \"Canis familiaris\"\r\n",
    "\r\n",
    "    def __init__(self, name, age):\r\n",
    "        self.name = name\r\n",
    "        self.age = age\r\n",
    "\r\n",
    "    def __str__(self):\r\n",
    "        return f\"{self.name} is {self.age}\"\r\n",
    "\r\n",
    "    def speak(self, sound):\r\n",
    "        return f\"{self.name} says {sound}\""
   ],
   "outputs": [],
   "metadata": {}
  },
  {
   "cell_type": "code",
   "execution_count": 38,
   "source": [
    "class GoldenRetriever(Dog):\r\n",
    "    def speak(self, sound=\"Bark\"):\r\n",
    "        return super().speak(sound)"
   ],
   "outputs": [],
   "metadata": {}
  },
  {
   "cell_type": "code",
   "execution_count": 39,
   "source": [
    "bella = GoldenRetriever(\"Bella\", 2)"
   ],
   "outputs": [],
   "metadata": {}
  },
  {
   "cell_type": "code",
   "execution_count": 40,
   "source": [
    "bella.speak()"
   ],
   "outputs": [
    {
     "output_type": "execute_result",
     "data": {
      "text/plain": [
       "'Bella says Bark'"
      ]
     },
     "metadata": {},
     "execution_count": 40
    }
   ],
   "metadata": {}
  },
  {
   "cell_type": "code",
   "execution_count": 42,
   "source": [
    "bella.speak(\"brrrrr\")"
   ],
   "outputs": [
    {
     "output_type": "execute_result",
     "data": {
      "text/plain": [
       "'Bella says brrrrr'"
      ]
     },
     "metadata": {},
     "execution_count": 42
    }
   ],
   "metadata": {}
  },
  {
   "cell_type": "code",
   "execution_count": 44,
   "source": [
    "class Rectangle:\r\n",
    "    def __init__(self, length, width):\r\n",
    "        self.length = length\r\n",
    "        self.width = width\r\n",
    "\r\n",
    "    def area(self):\r\n",
    "        return self.length * self.width\r\n",
    "\r\n",
    "    def perimeter(self):\r\n",
    "        return 2 * self.length + 2 * self.width\r\n",
    "\r\n",
    "class Square:\r\n",
    "    def __init__(self, length):\r\n",
    "        self.length = length\r\n",
    "\r\n",
    "    def area(self):\r\n",
    "        return self.length * self.length\r\n",
    "\r\n",
    "    def perimeter(self):\r\n",
    "        return 4 * self.length"
   ],
   "outputs": [],
   "metadata": {}
  },
  {
   "cell_type": "code",
   "execution_count": 45,
   "source": [
    "square = Square(4)\r\n",
    "square.area()"
   ],
   "outputs": [
    {
     "output_type": "execute_result",
     "data": {
      "text/plain": [
       "16"
      ]
     },
     "metadata": {},
     "execution_count": 45
    }
   ],
   "metadata": {}
  },
  {
   "cell_type": "code",
   "execution_count": 46,
   "source": [
    "rectangle = Rectangle(2,4)\r\n",
    "rectangle.area()"
   ],
   "outputs": [
    {
     "output_type": "execute_result",
     "data": {
      "text/plain": [
       "8"
      ]
     },
     "metadata": {},
     "execution_count": 46
    }
   ],
   "metadata": {}
  },
  {
   "cell_type": "code",
   "execution_count": 58,
   "source": [
    "class Rectangle:\r\n",
    "    def __init__(self, length, width):\r\n",
    "        self.length = length\r\n",
    "        self.width = width\r\n",
    "\r\n",
    "    def area(self):\r\n",
    "        return self.length * self.width\r\n",
    "\r\n",
    "    def perimeter(self):\r\n",
    "        return 2 * self.length + 2 * self.width\r\n",
    "\r\n",
    "class Square(Rectangle):\r\n",
    "    def __init__(self, length):\r\n",
    "        super().__init__(length, length)"
   ],
   "outputs": [],
   "metadata": {}
  },
  {
   "cell_type": "code",
   "execution_count": 61,
   "source": [
    "square = Square(4)\r\n",
    "#square.area()"
   ],
   "outputs": [
    {
     "output_type": "execute_result",
     "data": {
      "text/plain": [
       "16"
      ]
     },
     "metadata": {},
     "execution_count": 61
    }
   ],
   "metadata": {}
  },
  {
   "cell_type": "code",
   "execution_count": 62,
   "source": [
    "small_sqaure = Square(2)\r\n",
    "small_sqaure.perimeter()"
   ],
   "outputs": [
    {
     "output_type": "execute_result",
     "data": {
      "text/plain": [
       "8"
      ]
     },
     "metadata": {},
     "execution_count": 62
    }
   ],
   "metadata": {}
  },
  {
   "cell_type": "code",
   "execution_count": 65,
   "source": [
    "class Square(Rectangle):\r\n",
    "    def __init__(self, length):\r\n",
    "        super().__init__(length, length)\r\n",
    "\r\n",
    "class Cube(Square):\r\n",
    "    def surface_area(self):\r\n",
    "        face_area = super().area()\r\n",
    "        return face_area * 6\r\n",
    "    \r\n",
    "    def volume(self):\r\n",
    "        face_area = super().area()\r\n",
    "        return face_area * self.length"
   ],
   "outputs": [],
   "metadata": {}
  },
  {
   "cell_type": "code",
   "execution_count": 66,
   "source": [
    "cube = Cube(3)\r\n",
    "cube.surface_area()"
   ],
   "outputs": [
    {
     "output_type": "execute_result",
     "data": {
      "text/plain": [
       "54"
      ]
     },
     "metadata": {},
     "execution_count": 66
    }
   ],
   "metadata": {}
  },
  {
   "cell_type": "code",
   "execution_count": 67,
   "source": [
    "class Rectangle:\r\n",
    "    def __init__(self, length, width):\r\n",
    "        self.length = length\r\n",
    "        self.width = width\r\n",
    "\r\n",
    "    def area(self):\r\n",
    "        return self.length * self.width\r\n",
    "\r\n",
    "    def perimeter(self):\r\n",
    "        return 2 * self.length + 2 * self.width\r\n",
    "\r\n",
    "class Square(Rectangle):\r\n",
    "    def __init__(self, length):\r\n",
    "        super(Square, self).__init__(length, length)"
   ],
   "outputs": [],
   "metadata": {}
  },
  {
   "cell_type": "code",
   "execution_count": 68,
   "source": [
    "class Cube(Square):\r\n",
    "    def surface_area(self):\r\n",
    "        face_area = super(Square, self).area()\r\n",
    "        return face_area * 6\r\n",
    "\r\n",
    "    def volume(self):\r\n",
    "        face_area = super(Square, self).area()\r\n",
    "        return face_area * self.length"
   ],
   "outputs": [],
   "metadata": {}
  },
  {
   "cell_type": "code",
   "execution_count": 74,
   "source": [
    "class Triangle:\r\n",
    "    def __init__(self, base, height):\r\n",
    "        self.base = base\r\n",
    "        self.height = height\r\n",
    "\r\n",
    "    def area(self):\r\n",
    "        return 0.5 * self.base * self.height\r\n",
    "\r\n",
    "class RightPyramid(Triangle, Square):\r\n",
    "    def __init__(self, base, slant_height):\r\n",
    "        self.base = base\r\n",
    "        self.slant_height = slant_height\r\n",
    "\r\n",
    "    def area(self):\r\n",
    "        base_area = super().area()\r\n",
    "        perimeter = super().perimeter()\r\n",
    "        return 0.5 * perimeter * self.slant_height + base_area"
   ],
   "outputs": [],
   "metadata": {}
  },
  {
   "cell_type": "code",
   "execution_count": 75,
   "source": [
    "RightPyramid.__mro__"
   ],
   "outputs": [
    {
     "output_type": "execute_result",
     "data": {
      "text/plain": [
       "(__main__.RightPyramid,\n",
       " __main__.Triangle,\n",
       " __main__.Square,\n",
       " __main__.Rectangle,\n",
       " object)"
      ]
     },
     "metadata": {},
     "execution_count": 75
    }
   ],
   "metadata": {}
  },
  {
   "cell_type": "code",
   "execution_count": 76,
   "source": [
    "class RightPyramid(Square, Triangle):\r\n",
    "    def __init__(self, base, slant_height):\r\n",
    "        self.base = base\r\n",
    "        self.slant_height = slant_height\r\n",
    "        super().__init__(self.base)\r\n",
    "\r\n",
    "    def area(self):\r\n",
    "        base_area = super().area()\r\n",
    "        perimeter = super().perimeter()\r\n",
    "        return 0.5 * perimeter * self.slant_height + base_area"
   ],
   "outputs": [],
   "metadata": {}
  },
  {
   "cell_type": "code",
   "execution_count": 78,
   "source": [
    "pyramid = RightPyramid(2, 4)\r\n",
    "RightPyramid.__mro__\r\n",
    "\r\n"
   ],
   "outputs": [
    {
     "output_type": "execute_result",
     "data": {
      "text/plain": [
       "(__main__.RightPyramid,\n",
       " __main__.Square,\n",
       " __main__.Rectangle,\n",
       " __main__.Triangle,\n",
       " object)"
      ]
     },
     "metadata": {},
     "execution_count": 78
    }
   ],
   "metadata": {}
  },
  {
   "cell_type": "code",
   "execution_count": 79,
   "source": [
    "\r\n",
    "\r\n",
    "\r\n",
    "pyramid.area()"
   ],
   "outputs": [
    {
     "output_type": "execute_result",
     "data": {
      "text/plain": [
       "20.0"
      ]
     },
     "metadata": {},
     "execution_count": 79
    }
   ],
   "metadata": {}
  },
  {
   "cell_type": "code",
   "execution_count": 80,
   "source": [
    "class Triangle:\r\n",
    "    def __init__(self, base, height):\r\n",
    "        self.base = base\r\n",
    "        self.height = height\r\n",
    "        super().__init__()\r\n",
    "\r\n",
    "    def tri_area(self):\r\n",
    "        return 0.5 * self.base * self.height"
   ],
   "outputs": [],
   "metadata": {}
  },
  {
   "cell_type": "code",
   "execution_count": 81,
   "source": [
    "class RightPyramid(Square, Triangle):\r\n",
    "    def __init__(self, base, slant_height):\r\n",
    "        self.base = base\r\n",
    "        self.slant_height = slant_height\r\n",
    "        super().__init__(self.base)\r\n",
    "\r\n",
    "    def area(self):\r\n",
    "        base_area = super().area()\r\n",
    "        perimeter = super().perimeter()\r\n",
    "        return 0.5 * perimeter * self.slant_height + base_area\r\n",
    "\r\n",
    "    def area_2(self):\r\n",
    "        base_area = super().area()\r\n",
    "        triangle_area = super().tri_area()\r\n",
    "        return triangle_area * 4 + base_area"
   ],
   "outputs": [],
   "metadata": {}
  },
  {
   "cell_type": "code",
   "execution_count": null,
   "source": [],
   "outputs": [],
   "metadata": {}
  }
 ],
 "metadata": {
  "orig_nbformat": 4,
  "language_info": {
   "name": "python",
   "version": "3.9.4",
   "mimetype": "text/x-python",
   "codemirror_mode": {
    "name": "ipython",
    "version": 3
   },
   "pygments_lexer": "ipython3",
   "nbconvert_exporter": "python",
   "file_extension": ".py"
  },
  "kernelspec": {
   "name": "python3",
   "display_name": "Python 3.9.4 64-bit ('py39': conda)"
  },
  "interpreter": {
   "hash": "cb1ef6ee9e8f5c073cf10983faee636ae3a80388e7f338a22d4059f58478f730"
  }
 },
 "nbformat": 4,
 "nbformat_minor": 2
}