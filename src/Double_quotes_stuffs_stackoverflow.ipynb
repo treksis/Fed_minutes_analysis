{
 "cells": [
  {
   "cell_type": "code",
   "execution_count": 1,
   "id": "c5c4c1eb",
   "metadata": {},
   "outputs": [
    {
     "name": "stdout",
     "output_type": "stream",
     "text": [
      "p:contains(boss) <class 'str'>\n",
      "p:contains(boss) <class 'str'>\n",
      "p:contains(boss) <class 'str'>\n",
      "p:contains(boss) <class 'str'>\n"
     ]
    }
   ],
   "source": [
    "k = \"boss\"\n",
    "test = 'p:contains({})'.format(k)\n",
    "print(test, type(test))\n",
    "test_2 = 'p:contains(%s)' % (k)\n",
    "print(test, type(test_2))\n",
    "test_3 = f'p:contains({k})'\n",
    "print(test, type(test_3))\n",
    "test_4 = 'p:contains('+str(k)+')'\n",
    "print(test, type(test_4 ))"
   ]
  },
  {
   "cell_type": "code",
   "execution_count": 2,
   "id": "7de7b8df",
   "metadata": {},
   "outputs": [
    {
     "name": "stdout",
     "output_type": "stream",
     "text": [
      "Separate Desktop page with separate mobile and/or AMP\n",
      "Separate Desktop page with AMP page as AMP and Mobile\n",
      "Separate Desktop with different H1\n",
      "No mobile configuration\n"
     ]
    },
    {
     "name": "stderr",
     "output_type": "stream",
     "text": [
      "C:\\Users\\Howoo\\anaconda3\\envs\\python39\\lib\\site-packages\\soupsieve\\css_parser.py:813: FutureWarning: The pseudo class ':contains' is deprecated, ':-soup-contains' should be used moving forward.\n",
      "  warnings.warn(\n"
     ]
    }
   ],
   "source": [
    "import requests\n",
    "from bs4 import BeautifulSoup\n",
    "\n",
    "url = \"https://crawler-test.com/\"\n",
    "page = requests.get(url)\n",
    "soup = BeautifulSoup(page.content, \"html.parser\")\n",
    "\n",
    "soup.select('div div:nth-child(2) div')\n",
    "\n",
    "mobile_list = [\"Separate Desktop page with separate mobile and/or AMP\", \n",
    "               \"Separate Desktop page with AMP page as AMP and Mobile\", \n",
    "               \"Separate Desktop with different H1\",\n",
    "              \"No mobile configuration\"]\n",
    "\n",
    "for m in mobile_list:\n",
    "                    # This is the tricky part \n",
    "    #for a in soup.select_one('a:contains({})'.format(m)):\n",
    "    #for a in soup.select_one('a:contains(%s)' % m):\n",
    "    #}for a in soup.select_one(f'a:contains({m})'):\n",
    "    for a in soup.select_one(f'a:contains(\"{m}\")'): \n",
    "        \n",
    "        print(a)"
   ]
  },
  {
   "cell_type": "code",
   "execution_count": null,
   "id": "4d6b894a",
   "metadata": {},
   "outputs": [],
   "source": []
  }
 ],
 "metadata": {
  "kernelspec": {
   "display_name": "Python 3 (ipykernel)",
   "language": "python",
   "name": "python3"
  },
  "language_info": {
   "codemirror_mode": {
    "name": "ipython",
    "version": 3
   },
   "file_extension": ".py",
   "mimetype": "text/x-python",
   "name": "python",
   "nbconvert_exporter": "python",
   "pygments_lexer": "ipython3",
   "version": "3.9.0"
  }
 },
 "nbformat": 4,
 "nbformat_minor": 5
}
