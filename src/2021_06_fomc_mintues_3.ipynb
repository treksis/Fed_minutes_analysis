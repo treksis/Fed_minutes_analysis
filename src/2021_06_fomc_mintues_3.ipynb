{
 "cells": [
  {
   "cell_type": "code",
   "execution_count": 1,
   "id": "d5a2733d",
   "metadata": {},
   "outputs": [],
   "source": [
    "import requests\n",
    "from bs4 import BeautifulSoup\n",
    "import re\n",
    "import pandas as pd"
   ]
  },
  {
   "cell_type": "code",
   "execution_count": 2,
   "id": "68de8ed5",
   "metadata": {},
   "outputs": [],
   "source": [
    "with open('hello.txt', encoding='utf-8') as f:\n",
    "    lines = f.read()"
   ]
  },
  {
   "cell_type": "code",
   "execution_count": null,
   "id": "6fd355a6",
   "metadata": {},
   "outputs": [],
   "source": []
  },
  {
   "cell_type": "code",
   "execution_count": 14,
   "id": "564d6383",
   "metadata": {},
   "outputs": [],
   "source": [
    "import nltk\n",
    "from pprint import pprint\n",
    "import string"
   ]
  },
  {
   "cell_type": "code",
   "execution_count": 15,
   "id": "f970f968",
   "metadata": {},
   "outputs": [],
   "source": [
    "words = nltk.word_tokenize(lines)"
   ]
  },
  {
   "cell_type": "code",
   "execution_count": 16,
   "id": "1d6352fc",
   "metadata": {},
   "outputs": [],
   "source": [
    "stopwords = nltk.corpus.stopwords.words(\"english\")\n",
    "stopwords.extend([\"governors\", \"board\", \"federal\", \"reserve\"])\n",
    "words =[word.lower() for word in words if word.isalpha() if word not in stopwords]"
   ]
  },
  {
   "cell_type": "code",
   "execution_count": 17,
   "id": "73f3bda6",
   "metadata": {},
   "outputs": [
    {
     "name": "stdout",
     "output_type": "stream",
     "text": [
      "['staff', 'economic', 'outlook', 'the', 'economic', 'projection', 'prepared', 'staff', 'june', 'fomc', 'meeting', 'stronger', 'april', 'forecast', 'real', 'gdp', 'growth', 'projected', 'increase', 'substantially', 'year', 'correspondingly', 'rapid', 'decline', 'unemployment', 'rate', 'further', 'reductions', 'social', 'distancing', 'favorable', 'financial', 'conditions', 'expected', 'support', 'output', 'growth', 'even', 'though', 'effects', 'fiscal', 'stimulus', 'economic', 'growth', 'starting', 'unwind', 'with', 'boost', 'growth', 'continued', 'reductions', 'social', 'distancing', 'assumed', 'fade', 'unwinding', 'fiscal', 'stimulus', 'gdp', 'growth', 'expected', 'step', 'nevertheless', 'monetary', 'policy', 'assumed', 'remain', 'highly', 'accommodative', 'staff', 'continued', 'anticipate', 'real', 'gdp', 'growth', 'would', 'outpace', 'potential', 'period', 'leading', 'decline', 'unemployment', 'rate', 'historically', 'low', 'levels', 'the', 'staff', 'outlook', 'inflation', 'revised', 'markedly', 'staff', 'continued', 'expect', 'rise', 'inflation', 'year', 'transitory', 'the', 'change', 'total', 'core', 'pce', 'prices', 'moved', 'well', 'percent', 'april', 'incoming', 'cpi', 'data', 'suggested', 'pce', 'price', 'inflation', 'would', 'remain', 'high', 'may', 'the', 'recent', 'measures', 'inflation', 'boosted', 'significantly', 'base', 'effects', 'drop', 'prices', 'spring', 'rolling', 'calculation', 'in', 'addition', 'surge', 'demand', 'economy', 'reopened', 'combined', 'production', 'bottlenecks', 'supply', 'constraints', 'contributed', 'large', 'recent', 'monthly', 'price', 'increases', 'the', 'staff', 'expected', 'change', 'pce', 'prices', 'gradually', 'move', 'coming', 'months', 'reflecting', 'importantly', 'fading', 'base', 'effects', 'along', 'smaller', 'expected', 'monthly', 'price', 'increases', 'pce', 'price', 'inflation', 'forecast', 'still', 'well', 'percent', 'end', 'year', 'over', 'next', 'year', 'transitory', 'price', 'increases', 'caused', 'bottlenecks', 'supply', 'constraints', 'expected', 'largely', 'reverse', 'growth', 'demand', 'forecast', 'ease', 'as', 'result', 'inflation', 'projected', 'slow', 'slightly', 'percent', 'moving', 'back', 'bit', 'percent', 'supported', 'high', 'levels', 'resource', 'utilization', 'the', 'staff', 'continued', 'see', 'uncertainty', 'surrounding', 'economic', 'outlook', 'elevated', 'although', 'increasingly', 'widespread', 'vaccinations', 'along', 'ongoing', 'policy', 'support', 'viewed', 'helping', 'diminish', 'uncertainties', 'nevertheless', 'staff', 'judged', 'risks', 'around', 'strong', 'baseline', 'projection', 'economic', 'activity', 'still', 'tilted', 'somewhat', 'downside', 'adverse', 'alternative', 'courses', 'possibility', 'spread', 'likely', 'outcomes', 'would', 'favorable', 'baseline', 'forecast', 'the', 'staff', 'continued', 'view', 'risks', 'around', 'inflation', 'projection', 'roughly', 'balanced', 'on', 'upside', 'bottlenecks', 'supply', 'disruptions', 'historically', 'high', 'rates', 'resource', 'utilization', 'seen', 'potential', 'sources', 'inflationary', 'pressures', 'particularly', 'significant', 'rise', 'inflation', 'expectations', 'altered', 'inflation', 'dynamics', 'on', 'downside', 'effects', 'supply', 'constraints', 'proved', 'transitory', 'expected', 'inflation', 'record', 'past', 'years', 'suggested', 'possibility', 'low', 'underlying', 'trend', 'inflation', 'flat', 'phillips', 'curve', 'could', 'cause', 'inflation', 'revert', 'relatively', 'low', 'levels', 'despite', 'strengthening', 'economy', 'participants', 'views', 'current', 'economic', 'conditions', 'economic', 'outlook', 'in', 'conjunction', 'fomc', 'meeting', 'participants', 'submitted', 'projections', 'likely', 'outcomes', 'real', 'gdp', 'growth', 'unemployment', 'rate', 'inflation', 'year', 'longer', 'run', 'based', 'individual', 'assessments', 'appropriate', 'monetary', 'policy', 'including', 'path', 'funds', 'rate', 'the', 'projections', 'represented', 'participant', 'assessment', 'rate', 'variable', 'would', 'expected', 'converge', 'time', 'appropriate', 'monetary', 'policy', 'absence', 'shocks', 'economy', 'a', 'summary', 'economic', 'projections', 'released', 'public', 'following', 'conclusion', 'meeting', 'in', 'discussion', 'current', 'conditions', 'participants', 'noted', 'progress', 'vaccinations', 'reduced', 'spread', 'united', 'states', 'amid', 'progress', 'strong', 'policy', 'support', 'indicators', 'economic', 'activity', 'employment', 'strengthened', 'the', 'sectors', 'adversely', 'affected', 'pandemic', 'remained', 'weak', 'shown', 'improvement', 'inflation', 'risen', 'largely', 'reflecting', 'transitory', 'factors', 'overall', 'financial', 'conditions', 'remained', 'accommodative', 'part', 'reflecting', 'policy', 'measures', 'support', 'economy', 'flow', 'credit', 'households', 'businesses', 'participants', 'generally', 'noted', 'path', 'economy', 'would', 'depend', 'significantly', 'course', 'virus', 'progress', 'vaccinations', 'would', 'likely', 'continue', 'reduce', 'effects', 'public', 'health', 'crisis', 'economy', 'risks', 'economic', 'outlook', 'remained', 'participants', 'observed', 'economic', 'activity', 'expanding', 'historically', 'rapid', 'pace', 'led', 'robust', 'gains', 'consumer', 'spending', 'a', 'vast', 'majority', 'participants', 'revised', 'projections', 'real', 'gdp', 'growth', 'year', 'compared', 'projections', 'submitted', 'march', 'citing', 'stronger', 'consumer', 'demand', 'improvements', 'vaccination', 'rates', 'primary', 'reasons', 'upgrades', 'that', 'said', 'participants', 'generally', 'saw', 'supply', 'disruptions', 'labor', 'shortages', 'constraining', 'expansion', 'economic', 'activity', 'year', 'participants', 'projections', 'real', 'gdp', 'growth', 'generally', 'little', 'changed', 'in', 'discussion', 'household', 'sector', 'participants', 'remarked', 'indicators', 'consumer', 'spending', 'continued', 'surge', 'expected', 'gains', 'spending', 'would', 'contribute', 'significantly', 'economic', 'recovery', 'many', 'participants', 'commented', 'accommodative', 'financial', 'conditions', 'release', 'demand', 'progress', 'widespread', 'vaccination', 'ongoing', 'reduction', 'measures', 'fiscal', 'stimulus', 'important', 'factors', 'supporting', 'spending', 'some', 'participants', 'also', 'noted', 'consumer', 'spending', 'would', 'likely', 'continue', 'bolstered', 'ongoing', 'effects', 'factors', 'well', 'households', 'elevated', 'level', 'accumulated', 'savings', 'generally', 'healthy', 'balance', 'sheets', 'a', 'majority', 'participants', 'observed', 'housing', 'market', 'activity', 'remained', 'strong', 'with', 'respect', 'business', 'sector', 'participants', 'noted', 'activity', 'service', 'industries', 'adversely', 'affected', 'pandemic', 'leisure', 'hospitality', 'sector', 'rebounding', 'economy', 'reopened', 'a', 'number', 'participants', 'noted', 'business', 'equipment', 'investment', 'rising', 'strong', 'pace', 'growth', 'manufacturing', 'activity', 'restrained', 'production', 'bottlenecks', 'supply', 'constraints', 'in', 'addition', 'participants', 'reported', 'hearing', 'contacts', 'broad', 'range', 'industries', 'shortages', 'materials', 'labor', 'well', 'supply', 'chain', 'challenges', 'limiting', 'ability', 'firms', 'keep', 'demand', 'some', 'business', 'contacts', 'indicated', 'responding', 'input', 'shortages', 'bottlenecks', 'canceling', 'shifts', 'raising', 'compensation', 'attract', 'retain', 'workers', 'raising', 'prices', 'focusing', 'cutting', 'costs', 'increasing', 'productivity', 'particularly', 'automation', 'participants', 'commented', 'continued', 'improvement', 'labor', 'market', 'conditions', 'recent', 'months', 'job', 'gains', 'april', 'may', 'averaged', 'unemployment', 'rate', 'edged', 'net', 'percent', 'period', 'many', 'participants', 'pointed', 'elevated', 'number', 'job', 'openings', 'high', 'rates', 'job', 'switching', 'evidence', 'improvement', 'labor', 'market', 'conditions', 'many', 'participants', 'remarked', 'however', 'economy', 'still', 'far', 'achieving', 'committee', 'inclusive', 'goal', 'participants', 'indicated', 'recent', 'job', 'gains', 'strong', 'weaker', 'expected', 'a', 'number', 'participants', 'noted', 'labor', 'market', 'recovery', 'continued', 'uneven', 'across', 'demographic', 'income', 'groups', 'across', 'sectors', 'participants', 'noted', 'district', 'contacts', 'reported', 'trouble', 'hiring', 'workers', 'meet', 'demand', 'likely', 'reflecting', 'factors', 'early', 'retirements', 'concerns', 'virus', 'childcare', 'responsibilities', 'expanded', 'unemployment', 'insurance', 'benefits', 'some', 'participants', 'remarked', 'factors', 'making', 'people', 'either', 'less', 'able', 'less', 'inclined', 'work', 'current', 'environment', 'citing', 'recent', 'wage', 'data', 'reports', 'business', 'contacts', 'many', 'participants', 'judged', 'labor', 'shortages', 'putting', 'upward', 'pressure', 'wages', 'leading', 'employers', 'provide', 'additional', 'financial', 'incentives', 'attract', 'retain', 'workers', 'particularly', 'occupations', 'participants', 'expected', 'labor', 'market', 'conditions', 'continue', 'improve', 'labor', 'shortages', 'expected', 'ease', 'throughout', 'summer', 'fall', 'progress', 'vaccinations', 'continues', 'social', 'distancing', 'unwinds', 'schools', 'reopen', 'expanded', 'unemployment', 'insurance', 'benefits', 'expire', 'in', 'discussions', 'inflation', 'participants', 'stated', 'expected', 'inflation', 'move', 'percent', 'near', 'term', 'part', 'drop', 'prices', 'early', 'pandemic', 'fell', 'calculation', 'past', 'increases', 'oil', 'prices', 'passed', 'consumer', 'energy', 'prices', 'however', 'participants', 'remarked', 'actual', 'rise', 'inflation', 'larger', 'anticipated', 'change', 'pce', 'price', 'index', 'reaching', 'percent', 'april', 'participants', 'attributed', 'upside', 'surprise', 'widespread', 'supply', 'constraints', 'product', 'labor', 'markets', 'anticipated', 'surge', 'consumer', 'demand', 'economy', 'reopened', 'they', 'noted', 'many', 'district', 'contacts', 'reported', 'higher', 'input', 'costs', 'putting', 'upward', 'pressure', 'prices', 'most', 'participants', 'observed', 'largest', 'contributors', 'rise', 'measured', 'inflation', 'sectors', 'affected', 'supply', 'bottlenecks', 'sectors', 'price', 'levels', 'rebounding', 'levels', 'depressed', 'pandemic', 'looking', 'ahead', 'participants', 'generally', 'expected', 'inflation', 'ease', 'effect', 'transitory', 'factors', 'dissipated', 'several', 'participants', 'remarked', 'anticipated', 'supply', 'chain', 'limitations', 'input', 'shortages', 'would', 'put', 'upward', 'pressure', 'prices', 'next', 'year', 'several', 'participants', 'noted', 'early', 'months', 'reopening', 'uncertainty', 'remained', 'high', 'accurately', 'assess', 'long', 'inflation', 'pressures', 'sustained', 'some', 'participants', 'commented', 'recent', 'readings', 'inflation', 'measures', 'exclude', 'volatile', 'components', 'trimmed', 'mean', 'measures', 'relatively', 'stable', 'percent', 'in', 'comments', 'inflation', 'expectations', 'number', 'participants', 'noted', 'despite', 'increases', 'earlier', 'year', 'measures', 'inflation', 'expectations', 'remained', 'ranges', 'broadly', 'consistent', 'committee', 'inflation', 'goal', 'others', 'noted', 'year', 'increases', 'brought', 'measures', 'levels', 'broadly', 'consistent', 'committee', 'inflation', 'goal', 'participants', 'noted', 'overall', 'financial', 'conditions', 'remained', 'highly', 'accommodative', 'part', 'reflecting', 'stance', 'monetary', 'policy', 'continued', 'deliver', 'appropriate', 'support', 'economy', 'several', 'participants', 'highlighted', 'however', 'low', 'interest', 'rates', 'contributing', 'elevated', 'house', 'prices', 'valuation', 'pressures', 'housing', 'markets', 'might', 'pose', 'financial', 'stability', 'risks', 'in', 'discussing', 'uncertainty', 'risks', 'associated', 'economic', 'outlook', 'participants', 'commented', 'process', 'reopening', 'economy', 'unprecedented', 'likely', 'uneven', 'across', 'sectors', 'some', 'participants', 'judged', 'supply', 'chain', 'disruptions', 'labor', 'shortages', 'complicated', 'task', 'assessing', 'progress', 'toward', 'committee', 'goals', 'speed', 'factors', 'would', 'dissipate', 'uncertain', 'accordingly', 'participants', 'judged', 'uncertainty', 'around', 'economic', 'projections', 'elevated', 'although', 'generally', 'saw', 'risks', 'outlook', 'economic', 'activity', 'broadly', 'balanced', 'substantial', 'majority', 'participants', 'judged', 'risks', 'inflation', 'projections', 'tilted', 'upside', 'concerns', 'supply', 'disruptions', 'labor', 'shortages', 'might', 'linger', 'longer', 'might', 'larger', 'persistent', 'effects', 'prices', 'wages', 'currently', 'assumed', 'several', 'participants', 'expressed', 'concern', 'inflation', 'expectations', 'might', 'rise', 'inappropriate', 'levels', 'elevated', 'inflation', 'readings', 'persisted', 'several', 'participants', 'cautioned', 'downside', 'risks', 'inflation', 'remained', 'temporary', 'price', 'pressures', 'might', 'unwind', 'faster', 'currently', 'anticipated', 'forces', 'held', 'inflation', 'inflation', 'expectations', 'previous', 'economic', 'expansion', 'gone', 'away', 'might', 'reinforce', 'effect', 'unwinding', 'temporary', 'price', 'pressures', 'in', 'consideration', 'stance', 'monetary', 'policy', 'participants', 'reaffirmed', 'federal', 'reserve', 'commitment', 'using', 'full', 'range', 'tools', 'support', 'economy', 'challenging', 'time', 'thereby', 'promoting', 'committee', 'statutory', 'goals', 'maximum', 'employment', 'price', 'stability', 'participants', 'generally', 'agreed', 'economic', 'recovery', 'incomplete', 'risks', 'economic', 'outlook', 'remained', 'although', 'inflation', 'risen', 'anticipated', 'increase', 'seen', 'largely', 'reflecting', 'temporary', 'factors', 'participants', 'expected', 'inflation', 'decline', 'toward', 'committee', 'percent', 'objective', 'participants', 'judged', 'current', 'stance', 'monetary', 'policy', 'policy', 'guidance', 'remained', 'appropriate', 'promote', 'maximum', 'employment', 'well', 'achieve', 'inflation', 'averages', 'percent', 'time', 'inflation', 'expectations', 'well', 'anchored', 'percent', 'participants', 'also', 'reiterated', 'existing', 'guidance', 'implied', 'paths', 'funds', 'rate', 'balance', 'sheet', 'would', 'depend', 'actual', 'progress', 'toward', 'reaching', 'committee', 'inflation', 'goals', 'in', 'light', 'incoming', 'data', 'implications', 'economic', 'outlooks', 'participants', 'mentioned', 'expected', 'economic', 'conditions', 'set', 'committee', 'forward', 'guidance', 'funds', 'rate', 'met', 'somewhat', 'earlier', 'projected', 'march', 'several', 'participants', 'emphasized', 'however', 'uncertainty', 'around', 'economic', 'outlook', 'elevated', 'early', 'draw', 'firm', 'conclusions', 'paths', 'labor', 'market', 'inflation', 'in', 'view', 'heightened', 'uncertainty', 'regarding', 'evolution', 'economy', 'also', 'implied', 'significant', 'uncertainty', 'appropriate', 'path', 'funds', 'rate', 'some', 'participants', 'noted', 'communications', 'appropriate', 'path', 'policy', 'would', 'focus', 'market', 'participants', 'current', 'environment', 'commented', 'would', 'important', 'emphasize', 'committee', 'reaction', 'function', 'commitment', 'monetary', 'policy', 'framework', 'changed', 'participants', 'discussed', 'federal', 'reserve', 'asset', 'purchases', 'progress', 'toward', 'committee', 'goals', 'since', 'last', 'december', 'committee', 'adopted', 'guidance', 'asset', 'purchases', 'the', 'committee', 'standard', 'substantial', 'progress', 'generally', 'seen', 'yet', 'met', 'though', 'participants', 'expected', 'progress', 'continue', 'various', 'participants', 'mentioned', 'expected', 'conditions', 'beginning', 'reduce', 'pace', 'asset', 'purchases', 'met', 'somewhat', 'earlier', 'anticipated', 'previous', 'meetings', 'light', 'incoming', 'data', 'some', 'participants', 'saw', 'incoming', 'data', 'providing', 'less', 'clear', 'signal', 'underlying', 'economic', 'momentum', 'judged', 'committee', 'would', 'information', 'coming', 'months', 'make', 'better', 'assessment', 'path', 'labor', 'market', 'inflation', 'as', 'result', 'several', 'participants', 'emphasized', 'committee', 'patient', 'assessing', 'progress', 'toward', 'goals', 'announcing', 'changes', 'plans', 'asset', 'purchases', 'participants', 'generally', 'judged', 'matter', 'prudent', 'planning', 'important', 'well', 'positioned', 'reduce', 'pace', 'asset', 'purchases', 'appropriate', 'response', 'unexpected', 'economic', 'developments', 'including', 'progress', 'toward', 'committee', 'goals', 'emergence', 'risks', 'could', 'impede', 'attainment', 'committee', 'goals', 'various', 'participants', 'offered', 'views', 'committee', 'agency', 'mbs', 'purchases', 'several', 'participants', 'saw', 'benefits', 'reducing', 'pace', 'purchases', 'quickly', 'earlier', 'treasury', 'purchases', 'light', 'valuation', 'pressures', 'housing', 'markets', 'several', 'participants', 'however', 'commented', 'reducing', 'pace', 'treasury', 'mbs', 'purchases', 'commensurately', 'preferable', 'approach', 'would', 'well', 'aligned', 'committee', 'previous', 'communications', 'purchases', 'treasury', 'securities', 'mbs', 'provide', 'accommodation', 'influence', 'broader', 'financial', 'conditions', 'in', 'coming', 'meetings', 'participants', 'agreed', 'continue', 'assessing', 'economy', 'progress', 'toward', 'committee', 'goals', 'begin', 'discuss', 'plans', 'adjusting', 'path', 'composition', 'asset', 'purchases', 'in', 'addition', 'participants', 'reiterated', 'intention', 'provide', 'notice', 'well', 'advance', 'announcement', 'reduce', 'pace', 'purchases', 'with', 'regard', 'implementation', 'monetary', 'policy', 'participants', 'observed', 'downward', 'pressure', 'money', 'market', 'rates', 'intermeeting', 'period', 'viewed', 'possibility', 'downward', 'pressure', 'rates', 'near', 'term', 'likely', 'consequently', 'noted', 'adjustment', 'federal', 'reserve', 'administered', 'rates', 'would', 'help', 'keep', 'funds', 'rate', 'well', 'within', 'target', 'range', 'support', 'smooth', 'market', 'functioning', 'funding', 'markets', 'participants', 'agreed', 'technical', 'adjustment', 'bearing', 'appropriate', 'path', 'funds', 'rate', 'stance', 'monetary', 'policy']\n"
     ]
    }
   ],
   "source": [
    "print(words)"
   ]
  },
  {
   "cell_type": "code",
   "execution_count": 18,
   "id": "7e05f359",
   "metadata": {},
   "outputs": [],
   "source": [
    "fd = nltk.FreqDist(words)"
   ]
  },
  {
   "cell_type": "code",
   "execution_count": 29,
   "id": "81fe7634",
   "metadata": {},
   "outputs": [
    {
     "name": "stdout",
     "output_type": "stream",
     "text": [
      "participants    inflation     economic    committee     expected        would       policy      economy        noted           in \n",
      "          63           38           24           19           17           16           14           14           14           13 \n"
     ]
    }
   ],
   "source": [
    "fd.tabulate(10)"
   ]
  },
  {
   "cell_type": "code",
   "execution_count": 20,
   "id": "6eb19746",
   "metadata": {},
   "outputs": [],
   "source": [
    "bigrams = nltk.collocations.BigramAssocMeasures()\n",
    "trigrams = nltk.collocations.TrigramAssocMeasures()"
   ]
  },
  {
   "cell_type": "code",
   "execution_count": 21,
   "id": "0560b7d0",
   "metadata": {},
   "outputs": [],
   "source": [
    "bigramFinder = nltk.collocations.BigramCollocationFinder.from_words(words)\n",
    "trigramFinder = nltk.collocations.TrigramCollocationFinder.from_words(words)"
   ]
  },
  {
   "cell_type": "code",
   "execution_count": 22,
   "id": "61f614cf",
   "metadata": {},
   "outputs": [],
   "source": [
    "bigram_freq = bigramFinder.ngram_fd.items()"
   ]
  },
  {
   "cell_type": "code",
   "execution_count": 23,
   "id": "cae256b3",
   "metadata": {},
   "outputs": [],
   "source": [
    "bigramFreqTable = pd.DataFrame(list(bigram_freq), columns=['bigram','freq']).sort_values(by='freq', ascending=False)"
   ]
  },
  {
   "cell_type": "code",
   "execution_count": 24,
   "id": "7b444226",
   "metadata": {},
   "outputs": [
    {
     "data": {
      "text/html": [
       "<div>\n",
       "<style scoped>\n",
       "    .dataframe tbody tr th:only-of-type {\n",
       "        vertical-align: middle;\n",
       "    }\n",
       "\n",
       "    .dataframe tbody tr th {\n",
       "        vertical-align: top;\n",
       "    }\n",
       "\n",
       "    .dataframe thead th {\n",
       "        text-align: right;\n",
       "    }\n",
       "</style>\n",
       "<table border=\"1\" class=\"dataframe\">\n",
       "  <thead>\n",
       "    <tr style=\"text-align: right;\">\n",
       "      <th></th>\n",
       "      <th>bigram</th>\n",
       "      <th>freq</th>\n",
       "    </tr>\n",
       "  </thead>\n",
       "  <tbody>\n",
       "    <tr>\n",
       "      <th>0</th>\n",
       "      <td>(monetary, policy)</td>\n",
       "      <td>9</td>\n",
       "    </tr>\n",
       "    <tr>\n",
       "      <th>1</th>\n",
       "      <td>(participants, noted)</td>\n",
       "      <td>9</td>\n",
       "    </tr>\n",
       "    <tr>\n",
       "      <th>2</th>\n",
       "      <td>(several, participants)</td>\n",
       "      <td>9</td>\n",
       "    </tr>\n",
       "    <tr>\n",
       "      <th>3</th>\n",
       "      <td>(economic, outlook)</td>\n",
       "      <td>7</td>\n",
       "    </tr>\n",
       "    <tr>\n",
       "      <th>4</th>\n",
       "      <td>(gdp, growth)</td>\n",
       "      <td>6</td>\n",
       "    </tr>\n",
       "    <tr>\n",
       "      <th>5</th>\n",
       "      <td>(inflation, expectations)</td>\n",
       "      <td>6</td>\n",
       "    </tr>\n",
       "    <tr>\n",
       "      <th>6</th>\n",
       "      <td>(some, participants)</td>\n",
       "      <td>6</td>\n",
       "    </tr>\n",
       "    <tr>\n",
       "      <th>7</th>\n",
       "      <td>(funds, rate)</td>\n",
       "      <td>6</td>\n",
       "    </tr>\n",
       "    <tr>\n",
       "      <th>8</th>\n",
       "      <td>(labor, market)</td>\n",
       "      <td>6</td>\n",
       "    </tr>\n",
       "    <tr>\n",
       "      <th>9</th>\n",
       "      <td>(asset, purchases)</td>\n",
       "      <td>6</td>\n",
       "    </tr>\n",
       "    <tr>\n",
       "      <th>10</th>\n",
       "      <td>(progress, toward)</td>\n",
       "      <td>6</td>\n",
       "    </tr>\n",
       "    <tr>\n",
       "      <th>11</th>\n",
       "      <td>(economic, activity)</td>\n",
       "      <td>5</td>\n",
       "    </tr>\n",
       "    <tr>\n",
       "      <th>12</th>\n",
       "      <td>(committee, goals)</td>\n",
       "      <td>5</td>\n",
       "    </tr>\n",
       "    <tr>\n",
       "      <th>13</th>\n",
       "      <td>(toward, committee)</td>\n",
       "      <td>5</td>\n",
       "    </tr>\n",
       "    <tr>\n",
       "      <th>14</th>\n",
       "      <td>(labor, shortages)</td>\n",
       "      <td>5</td>\n",
       "    </tr>\n",
       "    <tr>\n",
       "      <th>15</th>\n",
       "      <td>(real, gdp)</td>\n",
       "      <td>5</td>\n",
       "    </tr>\n",
       "    <tr>\n",
       "      <th>16</th>\n",
       "      <td>(financial, conditions)</td>\n",
       "      <td>5</td>\n",
       "    </tr>\n",
       "    <tr>\n",
       "      <th>17</th>\n",
       "      <td>(participants, generally)</td>\n",
       "      <td>5</td>\n",
       "    </tr>\n",
       "    <tr>\n",
       "      <th>18</th>\n",
       "      <td>(supply, constraints)</td>\n",
       "      <td>5</td>\n",
       "    </tr>\n",
       "    <tr>\n",
       "      <th>19</th>\n",
       "      <td>(participants, remarked)</td>\n",
       "      <td>5</td>\n",
       "    </tr>\n",
       "  </tbody>\n",
       "</table>\n",
       "</div>"
      ],
      "text/plain": [
       "                       bigram  freq\n",
       "0          (monetary, policy)     9\n",
       "1       (participants, noted)     9\n",
       "2     (several, participants)     9\n",
       "3         (economic, outlook)     7\n",
       "4               (gdp, growth)     6\n",
       "5   (inflation, expectations)     6\n",
       "6        (some, participants)     6\n",
       "7               (funds, rate)     6\n",
       "8             (labor, market)     6\n",
       "9          (asset, purchases)     6\n",
       "10         (progress, toward)     6\n",
       "11       (economic, activity)     5\n",
       "12         (committee, goals)     5\n",
       "13        (toward, committee)     5\n",
       "14         (labor, shortages)     5\n",
       "15                (real, gdp)     5\n",
       "16    (financial, conditions)     5\n",
       "17  (participants, generally)     5\n",
       "18      (supply, constraints)     5\n",
       "19   (participants, remarked)     5"
      ]
     },
     "execution_count": 24,
     "metadata": {},
     "output_type": "execute_result"
    }
   ],
   "source": [
    "bigramFreqTable.head(20).reset_index(drop=True)"
   ]
  },
  {
   "cell_type": "code",
   "execution_count": 25,
   "id": "a5f0fe89",
   "metadata": {},
   "outputs": [],
   "source": [
    "trigram_freq = trigramFinder.ngram_fd.items()"
   ]
  },
  {
   "cell_type": "code",
   "execution_count": 26,
   "id": "4524dcfd",
   "metadata": {},
   "outputs": [],
   "source": [
    "trigramFreqTable = pd.DataFrame(list(trigram_freq), columns=['trigram','freq']).sort_values(by='freq', ascending=False)"
   ]
  },
  {
   "cell_type": "code",
   "execution_count": 27,
   "id": "b073fc4e",
   "metadata": {},
   "outputs": [
    {
     "data": {
      "text/html": [
       "<div>\n",
       "<style scoped>\n",
       "    .dataframe tbody tr th:only-of-type {\n",
       "        vertical-align: middle;\n",
       "    }\n",
       "\n",
       "    .dataframe tbody tr th {\n",
       "        vertical-align: top;\n",
       "    }\n",
       "\n",
       "    .dataframe thead th {\n",
       "        text-align: right;\n",
       "    }\n",
       "</style>\n",
       "<table border=\"1\" class=\"dataframe\">\n",
       "  <thead>\n",
       "    <tr style=\"text-align: right;\">\n",
       "      <th></th>\n",
       "      <th>trigram</th>\n",
       "      <th>freq</th>\n",
       "    </tr>\n",
       "  </thead>\n",
       "  <tbody>\n",
       "    <tr>\n",
       "      <th>0</th>\n",
       "      <td>(real, gdp, growth)</td>\n",
       "      <td>5</td>\n",
       "    </tr>\n",
       "    <tr>\n",
       "      <th>1</th>\n",
       "      <td>(stance, monetary, policy)</td>\n",
       "      <td>4</td>\n",
       "    </tr>\n",
       "    <tr>\n",
       "      <th>2</th>\n",
       "      <td>(toward, committee, goals)</td>\n",
       "      <td>4</td>\n",
       "    </tr>\n",
       "    <tr>\n",
       "      <th>3</th>\n",
       "      <td>(progress, toward, committee)</td>\n",
       "      <td>4</td>\n",
       "    </tr>\n",
       "    <tr>\n",
       "      <th>4</th>\n",
       "      <td>(number, participants, noted)</td>\n",
       "      <td>3</td>\n",
       "    </tr>\n",
       "  </tbody>\n",
       "</table>\n",
       "</div>"
      ],
      "text/plain": [
       "                         trigram  freq\n",
       "0            (real, gdp, growth)     5\n",
       "1     (stance, monetary, policy)     4\n",
       "2     (toward, committee, goals)     4\n",
       "3  (progress, toward, committee)     4\n",
       "4  (number, participants, noted)     3"
      ]
     },
     "execution_count": 27,
     "metadata": {},
     "output_type": "execute_result"
    }
   ],
   "source": [
    "trigramFreqTable.head().reset_index(drop=True)\n"
   ]
  },
  {
   "cell_type": "code",
   "execution_count": 28,
   "id": "abcae925",
   "metadata": {},
   "outputs": [
    {
     "data": {
      "text/html": [
       "<div>\n",
       "<style scoped>\n",
       "    .dataframe tbody tr th:only-of-type {\n",
       "        vertical-align: middle;\n",
       "    }\n",
       "\n",
       "    .dataframe tbody tr th {\n",
       "        vertical-align: top;\n",
       "    }\n",
       "\n",
       "    .dataframe thead th {\n",
       "        text-align: right;\n",
       "    }\n",
       "</style>\n",
       "<table border=\"1\" class=\"dataframe\">\n",
       "  <thead>\n",
       "    <tr style=\"text-align: right;\">\n",
       "      <th></th>\n",
       "      <th>trigram</th>\n",
       "      <th>freq</th>\n",
       "    </tr>\n",
       "  </thead>\n",
       "  <tbody>\n",
       "    <tr>\n",
       "      <th>14</th>\n",
       "      <td>(real, gdp, growth)</td>\n",
       "      <td>5</td>\n",
       "    </tr>\n",
       "    <tr>\n",
       "      <th>988</th>\n",
       "      <td>(stance, monetary, policy)</td>\n",
       "      <td>4</td>\n",
       "    </tr>\n",
       "    <tr>\n",
       "      <th>1044</th>\n",
       "      <td>(toward, committee, goals)</td>\n",
       "      <td>4</td>\n",
       "    </tr>\n",
       "    <tr>\n",
       "      <th>1043</th>\n",
       "      <td>(progress, toward, committee)</td>\n",
       "      <td>4</td>\n",
       "    </tr>\n",
       "    <tr>\n",
       "      <th>596</th>\n",
       "      <td>(number, participants, noted)</td>\n",
       "      <td>3</td>\n",
       "    </tr>\n",
       "    <tr>\n",
       "      <th>660</th>\n",
       "      <td>(labor, market, conditions)</td>\n",
       "      <td>3</td>\n",
       "    </tr>\n",
       "    <tr>\n",
       "      <th>347</th>\n",
       "      <td>(path, funds, rate)</td>\n",
       "      <td>3</td>\n",
       "    </tr>\n",
       "    <tr>\n",
       "      <th>138</th>\n",
       "      <td>(bottlenecks, supply, constraints)</td>\n",
       "      <td>3</td>\n",
       "    </tr>\n",
       "    <tr>\n",
       "      <th>494</th>\n",
       "      <td>(disruptions, labor, shortages)</td>\n",
       "      <td>3</td>\n",
       "    </tr>\n",
       "    <tr>\n",
       "      <th>493</th>\n",
       "      <td>(supply, disruptions, labor)</td>\n",
       "      <td>2</td>\n",
       "    </tr>\n",
       "    <tr>\n",
       "      <th>1255</th>\n",
       "      <td>(several, participants, emphasized)</td>\n",
       "      <td>2</td>\n",
       "    </tr>\n",
       "    <tr>\n",
       "      <th>1345</th>\n",
       "      <td>(pace, asset, purchases)</td>\n",
       "      <td>2</td>\n",
       "    </tr>\n",
       "    <tr>\n",
       "      <th>1250</th>\n",
       "      <td>(met, somewhat, earlier)</td>\n",
       "      <td>2</td>\n",
       "    </tr>\n",
       "    <tr>\n",
       "      <th>1239</th>\n",
       "      <td>(participants, mentioned, expected)</td>\n",
       "      <td>2</td>\n",
       "    </tr>\n",
       "    <tr>\n",
       "      <th>1267</th>\n",
       "      <td>(labor, market, inflation)</td>\n",
       "      <td>2</td>\n",
       "    </tr>\n",
       "    <tr>\n",
       "      <th>873</th>\n",
       "      <td>(upward, pressure, prices)</td>\n",
       "      <td>2</td>\n",
       "    </tr>\n",
       "    <tr>\n",
       "      <th>1233</th>\n",
       "      <td>(light, incoming, data)</td>\n",
       "      <td>2</td>\n",
       "    </tr>\n",
       "    <tr>\n",
       "      <th>470</th>\n",
       "      <td>(projections, real, gdp)</td>\n",
       "      <td>2</td>\n",
       "    </tr>\n",
       "    <tr>\n",
       "      <th>724</th>\n",
       "      <td>(district, contacts, reported)</td>\n",
       "      <td>2</td>\n",
       "    </tr>\n",
       "    <tr>\n",
       "      <th>343</th>\n",
       "      <td>(appropriate, monetary, policy)</td>\n",
       "      <td>2</td>\n",
       "    </tr>\n",
       "  </tbody>\n",
       "</table>\n",
       "</div>"
      ],
      "text/plain": [
       "                                  trigram  freq\n",
       "14                    (real, gdp, growth)     5\n",
       "988            (stance, monetary, policy)     4\n",
       "1044           (toward, committee, goals)     4\n",
       "1043        (progress, toward, committee)     4\n",
       "596         (number, participants, noted)     3\n",
       "660           (labor, market, conditions)     3\n",
       "347                   (path, funds, rate)     3\n",
       "138    (bottlenecks, supply, constraints)     3\n",
       "494       (disruptions, labor, shortages)     3\n",
       "493          (supply, disruptions, labor)     2\n",
       "1255  (several, participants, emphasized)     2\n",
       "1345             (pace, asset, purchases)     2\n",
       "1250             (met, somewhat, earlier)     2\n",
       "1239  (participants, mentioned, expected)     2\n",
       "1267           (labor, market, inflation)     2\n",
       "873            (upward, pressure, prices)     2\n",
       "1233              (light, incoming, data)     2\n",
       "470              (projections, real, gdp)     2\n",
       "724        (district, contacts, reported)     2\n",
       "343       (appropriate, monetary, policy)     2"
      ]
     },
     "execution_count": 28,
     "metadata": {},
     "output_type": "execute_result"
    }
   ],
   "source": [
    "trigramFreqTable[:20]"
   ]
  },
  {
   "cell_type": "code",
   "execution_count": null,
   "id": "0a68cfa7",
   "metadata": {},
   "outputs": [],
   "source": []
  }
 ],
 "metadata": {
  "kernelspec": {
   "display_name": "Python 3 (ipykernel)",
   "language": "python",
   "name": "python3"
  },
  "language_info": {
   "codemirror_mode": {
    "name": "ipython",
    "version": 3
   },
   "file_extension": ".py",
   "mimetype": "text/x-python",
   "name": "python",
   "nbconvert_exporter": "python",
   "pygments_lexer": "ipython3",
   "version": "3.9.0"
  }
 },
 "nbformat": 4,
 "nbformat_minor": 5
}
