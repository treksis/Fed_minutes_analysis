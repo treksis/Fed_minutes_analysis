{
 "cells": [
  {
   "cell_type": "code",
   "execution_count": 2,
   "id": "36e89067",
   "metadata": {},
   "outputs": [],
   "source": [
    "from selenium import webdriver\n",
    "from selenium.webdriver.common.keys import Keys\n",
    "from selenium.webdriver.common.by import By\n",
    "from selenium.webdriver.support.ui import WebDriverWait\n",
    "from selenium.webdriver.support import expected_conditions as EC\n",
    "from selenium.webdriver import ActionChains\n",
    "import time"
   ]
  },
  {
   "cell_type": "code",
   "execution_count": 131,
   "id": "e3bbade1",
   "metadata": {},
   "outputs": [
    {
     "name": "stdout",
     "output_type": "stream",
     "text": [
      "https://www.federalreserve.gov/monetarypolicy/fomcminutes20210616.htm\n",
      "https://www.federalreserve.gov/monetarypolicy/fomcminutes20210428.htm\n",
      "https://www.federalreserve.gov/monetarypolicy/fomcminutes20210317.htm\n",
      "https://www.federalreserve.gov/monetarypolicy/fomcminutes20210127.htm\n",
      "https://www.federalreserve.gov/monetarypolicy/fomcminutes20201216.htm\n",
      "https://www.federalreserve.gov/monetarypolicy/fomcminutes20201105.htm\n",
      "https://www.federalreserve.gov/monetarypolicy/fomcminutes20200916.htm\n",
      "https://www.federalreserve.gov/monetarypolicy/fomcminutes20200729.htm\n",
      "https://www.federalreserve.gov/monetarypolicy/fomcminutes20200610.htm\n",
      "https://www.federalreserve.gov/monetarypolicy/fomcminutes20200429.htm\n"
     ]
    }
   ],
   "source": [
    "PATH = \"C:\\Program Files (x86)\\chromedriver.exe\"\n",
    "driver = webdriver.Chrome(PATH)\n",
    "\n",
    "# go to federal reserve's search page and click the minutes box\n",
    "\n",
    "driver.get(\"https://www.federalreserve.gov/monetarypolicy/materials/\")\n",
    "time.sleep(2)\n",
    "click_minutes_box = driver.find_element_by_css_selector('.col-lg-6:nth-of-type(7) input').click()\n",
    "time.sleep(2)\n",
    "click_submit = driver.find_element_by_css_selector(\"div.row > div > div > form > button\").click()\n",
    "time.sleep(2)\n",
    "\n",
    "# get the all url links\n",
    "\n",
    "minutes_rows = driver.find_elements_by_css_selector(\"div.row.fomc-meeting\")\n",
    "\n",
    "time.sleep(1)\n",
    "\n",
    "link_lst = []\n",
    "\n",
    "for minute_row in minutes_rows:\n",
    "    a_tags = minute_row.find_elements_by_tag_name(\"a\")\n",
    "    time.sleep(0.2)\n",
    "    for a_tag in a_tags:\n",
    "        link_lst.append(a_tag.get_attribute(\"href\"))\n",
    "        #print(a_tag.get_attribute(\"href\"))\n",
    "\n",
    "for link in link_lst:\n",
    "    if \"htm\" in link:\n",
    "        print(link)"
   ]
  },
  {
   "cell_type": "code",
   "execution_count": null,
   "id": "0f20133e",
   "metadata": {},
   "outputs": [],
   "source": [
    "#article > app-root > div > ng-component > ul > li:nth-child(13) > a"
   ]
  },
  {
   "cell_type": "code",
   "execution_count": 5,
   "id": "c22f1173",
   "metadata": {},
   "outputs": [
    {
     "name": "stdout",
     "output_type": "stream",
     "text": [
      "next\n",
      "next\n",
      "next\n",
      "next\n",
      "next\n",
      "next\n",
      "next\n",
      "next\n",
      "next\n",
      "next\n",
      "next\n"
     ]
    }
   ],
   "source": [
    "PATH = \"C:\\Program Files (x86)\\chromedriver.exe\"\n",
    "driver = webdriver.Chrome(PATH)\n",
    "\n",
    "# go to federal reserve's search page and click the minutes box\n",
    "\n",
    "driver.get(\"https://www.federalreserve.gov/monetarypolicy/materials/\")\n",
    "time.sleep(2)\n",
    "click_minutes_box = driver.find_element_by_css_selector('.col-lg-6:nth-of-type(7) input').click()\n",
    "time.sleep(2)\n",
    "click_submit = driver.find_element_by_css_selector(\"div.row > div > div > form > button\").click()\n",
    "time.sleep(2)\n",
    "\n",
    "for i in range(11):\n",
    "    time.sleep(1)\n",
    "    print(\"next\")\n",
    "    next_page = driver.find_element_by_css_selector(\"ul > li:nth-child(13) > a\").click()\n",
    "    "
   ]
  },
  {
   "cell_type": "code",
   "execution_count": null,
   "id": "37cfd6c0",
   "metadata": {},
   "outputs": [],
   "source": [
    "#article > app-root > div > ng-component > ul > li:nth-child(13) > a"
   ]
  },
  {
   "cell_type": "code",
   "execution_count": null,
   "id": "4700691a",
   "metadata": {},
   "outputs": [],
   "source": []
  },
  {
   "cell_type": "code",
   "execution_count": 76,
   "id": "ba20bfe2",
   "metadata": {},
   "outputs": [],
   "source": []
  },
  {
   "cell_type": "code",
   "execution_count": null,
   "id": "1b3b94a4",
   "metadata": {},
   "outputs": [],
   "source": []
  }
 ],
 "metadata": {
  "kernelspec": {
   "display_name": "Python 3 (ipykernel)",
   "language": "python",
   "name": "python3"
  },
  "language_info": {
   "codemirror_mode": {
    "name": "ipython",
    "version": 3
   },
   "file_extension": ".py",
   "mimetype": "text/x-python",
   "name": "python",
   "nbconvert_exporter": "python",
   "pygments_lexer": "ipython3",
   "version": "3.9.0"
  }
 },
 "nbformat": 4,
 "nbformat_minor": 5
}
