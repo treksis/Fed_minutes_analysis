{
 "cells": [
  {
   "cell_type": "code",
   "execution_count": 2,
   "id": "deca6743",
   "metadata": {},
   "outputs": [],
   "source": [
    "import requests\n",
    "from bs4 import BeautifulSoup\n",
    "import re\n",
    "import pandas as pd"
   ]
  },
  {
   "cell_type": "code",
   "execution_count": 3,
   "id": "3d2320d2",
   "metadata": {
    "scrolled": true
   },
   "outputs": [
    {
     "data": {
      "text/plain": [
       "dict_keys(['', 'Discussion of Repurchase Agreement Arrangements', 'Developments in Financial Markets and Open Market Operations', 'Staff Review of the Economic Situation', 'Staff Review of the Financial Situation', 'Staff Economic Outlook', \"Participants' Views on Current Economic Conditions and the Economic Outlook\", 'Committee Policy Action', 'Voting against this action: ', '_______________________\\nJames A. Clouse\\nSecretary'])"
      ]
     },
     "execution_count": 3,
     "metadata": {},
     "output_type": "execute_result"
    }
   ],
   "source": [
    "from collections import defaultdict\n",
    "import json\n",
    "\n",
    "def extract_text(URL):\n",
    "    \n",
    "    page = requests.get(URL)\n",
    "    soup = BeautifulSoup(page.content, \"html.parser\")\n",
    "    article = soup.find(\"div\", {\"id\": \"article\"}).findAll(\"p\")\n",
    "    \n",
    "    data = defaultdict(list)\n",
    "    current_chapter = \"\"\n",
    "\n",
    "    for p in article:\n",
    "        strong = p.find('strong')\n",
    "        #print(strong)\n",
    "        if strong is not None:\n",
    "            current_chapter = strong.text\n",
    "        else:\n",
    "            data[current_chapter].append(p.text)\n",
    "        \n",
    "    return\n",
    "\n",
    "#for k,v in data.items():\n",
    "#    print(f'{k} -> {v}')\n",
    "\n",
    "extract_text(\"https://www.federalreserve.gov/monetarypolicy/fomcminutes20210616.htm\").keys()\n",
    "#stuff = extract_text(\"https://www.federalreserve.gov/monetarypolicy/fomcminutes20210616.htm\")\n"
   ]
  },
  {
   "cell_type": "code",
   "execution_count": null,
   "id": "d85421d4",
   "metadata": {},
   "outputs": [],
   "source": []
  },
  {
   "cell_type": "code",
   "execution_count": null,
   "id": "351b2c04",
   "metadata": {},
   "outputs": [],
   "source": []
  },
  {
   "cell_type": "code",
   "execution_count": 19,
   "id": "f8419940",
   "metadata": {},
   "outputs": [],
   "source": [
    "import json\n",
    "\n",
    "# python dictionary with key value pairs\n",
    "dict = extract_text(\"https://www.federalreserve.gov/monetarypolicy/fomcminutes20210616.htm\")\n",
    "\n",
    "# create json object from dictionary\n",
    "json = json.dumps(dict)\n",
    "\n",
    "# open file for writing, \"w\" \n",
    "f = open(\"dict.json\",\"w\")\n",
    "\n",
    "# write json object to file\n",
    "f.write(json)\n",
    "\n",
    "# close file\n",
    "f.close()"
   ]
  },
  {
   "cell_type": "code",
   "execution_count": 26,
   "id": "0d2c15d3",
   "metadata": {},
   "outputs": [],
   "source": [
    "import json\n",
    "\n",
    "f = open(\"dict.json\", \"r\")\n",
    "\n",
    "data = json.load(f)"
   ]
  },
  {
   "cell_type": "code",
   "execution_count": null,
   "id": "94a4c3bb",
   "metadata": {},
   "outputs": [],
   "source": []
  },
  {
   "cell_type": "code",
   "execution_count": null,
   "id": "08810156",
   "metadata": {},
   "outputs": [],
   "source": []
  }
 ],
 "metadata": {
  "kernelspec": {
   "display_name": "Python 3 (ipykernel)",
   "language": "python",
   "name": "python3"
  },
  "language_info": {
   "codemirror_mode": {
    "name": "ipython",
    "version": 3
   },
   "file_extension": ".py",
   "mimetype": "text/x-python",
   "name": "python",
   "nbconvert_exporter": "python",
   "pygments_lexer": "ipython3",
   "version": "3.9.0"
  }
 },
 "nbformat": 4,
 "nbformat_minor": 5
}
