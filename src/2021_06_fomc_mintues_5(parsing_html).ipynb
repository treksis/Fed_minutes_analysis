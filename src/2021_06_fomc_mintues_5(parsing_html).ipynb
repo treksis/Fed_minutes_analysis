{
 "cells": [
  {
   "cell_type": "code",
   "execution_count": 1,
   "id": "0bff6865",
   "metadata": {},
   "outputs": [],
   "source": [
    "import requests\n",
    "from bs4 import BeautifulSoup\n",
    "import re\n",
    "import pandas as pd"
   ]
  },
  {
   "cell_type": "code",
   "execution_count": 10,
   "id": "8e6daf08",
   "metadata": {},
   "outputs": [
    {
     "data": {
      "text/plain": [
       "dict_keys(['', 'Discussion of Repurchase Agreement Arrangements', 'Developments in Financial Markets and Open Market Operations', 'Staff Review of the Economic Situation', 'Staff Review of the Financial Situation', 'Staff Economic Outlook', \"Participants' Views on Current Economic Conditions and the Economic Outlook\", 'Committee Policy Action', 'Voting against this action: ', '_______________________\\nJames A. Clouse\\nSecretary'])"
      ]
     },
     "execution_count": 10,
     "metadata": {},
     "output_type": "execute_result"
    }
   ],
   "source": [
    "from collections import defaultdict\n",
    "\n",
    "def extract_text(URL):\n",
    "    \n",
    "    page = requests.get(URL)\n",
    "    soup = BeautifulSoup(page.content, \"html.parser\")\n",
    "    article = soup.find(\"div\", {\"id\": \"article\"}).findAll(\"p\")\n",
    "    \n",
    "    data = defaultdict(list)\n",
    "    current_chapter = \"\"\n",
    "\n",
    "    for p in article:\n",
    "        strong = p.find('strong')\n",
    "        #print(strong)\n",
    "        if strong is not None:\n",
    "            current_chapter = strong.text\n",
    "        else:\n",
    "            data[current_chapter].append(p.text)\n",
    "        \n",
    "    return data\n",
    "\n",
    "#for k,v in data.items():\n",
    "#    print(f'{k} -> {v}')\n",
    "\n",
    "extract_text(\"https://www.federalreserve.gov/monetarypolicy/fomcminutes20210616.htm\").keys()"
   ]
  },
  {
   "cell_type": "code",
   "execution_count": null,
   "id": "f5631187",
   "metadata": {},
   "outputs": [],
   "source": []
  },
  {
   "cell_type": "code",
   "execution_count": null,
   "id": "787df7c6",
   "metadata": {},
   "outputs": [],
   "source": []
  }
 ],
 "metadata": {
  "kernelspec": {
   "display_name": "Python 3 (ipykernel)",
   "language": "python",
   "name": "python3"
  },
  "language_info": {
   "codemirror_mode": {
    "name": "ipython",
    "version": 3
   },
   "file_extension": ".py",
   "mimetype": "text/x-python",
   "name": "python",
   "nbconvert_exporter": "python",
   "pygments_lexer": "ipython3",
   "version": "3.9.0"
  }
 },
 "nbformat": 4,
 "nbformat_minor": 5
}
